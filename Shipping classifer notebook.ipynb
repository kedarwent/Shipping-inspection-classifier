{
 "cells": [
  {
   "cell_type": "markdown",
   "id": "6df0183c",
   "metadata": {},
   "source": [
    "# Data acquisition"
   ]
  },
  {
   "cell_type": "code",
   "execution_count": 82,
   "id": "75c6228b",
   "metadata": {},
   "outputs": [],
   "source": [
    "import pandas as pd\n",
    "import numpy as np\n",
    "import sklearn\n",
    "from matplotlib import pyplot as plt\n",
    "import seaborn as sns\n",
    "\n",
    "import warnings\n",
    "warnings.filterwarnings('ignore')\n",
    "\n",
    "#sklearn.set_config(enable_metadata_routing=True)"
   ]
  },
  {
   "cell_type": "code",
   "execution_count": 83,
   "id": "28ac6fe3",
   "metadata": {
    "scrolled": true
   },
   "outputs": [],
   "source": [
    "df_raw = pd.read_csv('https://github.com/kedarwent/Shipping-inspection-classifier/blob/main/shipping_data_summative.csv')"
   ]
  },
  {
   "cell_type": "code",
   "execution_count": 84,
   "id": "c9cc80a7",
   "metadata": {
    "scrolled": true
   },
   "outputs": [
    {
     "data": {
      "text/html": [
       "<div>\n",
       "<style scoped>\n",
       "    .dataframe tbody tr th:only-of-type {\n",
       "        vertical-align: middle;\n",
       "    }\n",
       "\n",
       "    .dataframe tbody tr th {\n",
       "        vertical-align: top;\n",
       "    }\n",
       "\n",
       "    .dataframe thead th {\n",
       "        text-align: right;\n",
       "    }\n",
       "</style>\n",
       "<table border=\"1\" class=\"dataframe\">\n",
       "  <thead>\n",
       "    <tr style=\"text-align: right;\">\n",
       "      <th></th>\n",
       "      <th>name</th>\n",
       "      <th>price ($)</th>\n",
       "      <th>weight (kg)</th>\n",
       "      <th>length (m)</th>\n",
       "      <th>width (m)</th>\n",
       "      <th>height (m)</th>\n",
       "      <th>shipment date</th>\n",
       "      <th>port of loading</th>\n",
       "      <th>Vessel</th>\n",
       "      <th>Dwell after shipping</th>\n",
       "      <th>Customer</th>\n",
       "      <th>Called for inspection</th>\n",
       "    </tr>\n",
       "  </thead>\n",
       "  <tbody>\n",
       "    <tr>\n",
       "      <th>0</th>\n",
       "      <td>Pallete of Orange Juice</td>\n",
       "      <td>210.44</td>\n",
       "      <td>591.77</td>\n",
       "      <td>1.02</td>\n",
       "      <td>0.88</td>\n",
       "      <td>1.50</td>\n",
       "      <td>24/06/2022</td>\n",
       "      <td>Port of Shanghai (China)</td>\n",
       "      <td>LINDA</td>\n",
       "      <td>47</td>\n",
       "      <td>11</td>\n",
       "      <td>Y</td>\n",
       "    </tr>\n",
       "    <tr>\n",
       "      <th>1</th>\n",
       "      <td>Big Bag with Metal Scraps</td>\n",
       "      <td>195.60</td>\n",
       "      <td>1727.34</td>\n",
       "      <td>1.85</td>\n",
       "      <td>1.14</td>\n",
       "      <td>0.12</td>\n",
       "      <td>12/11/2022</td>\n",
       "      <td>Port of Tokyo (Japan)</td>\n",
       "      <td>AURORA</td>\n",
       "      <td>88</td>\n",
       "      <td>8</td>\n",
       "      <td>N</td>\n",
       "    </tr>\n",
       "    <tr>\n",
       "      <th>2</th>\n",
       "      <td>Coffee Maker</td>\n",
       "      <td>96.32</td>\n",
       "      <td>1.08</td>\n",
       "      <td>0.23</td>\n",
       "      <td>0.22</td>\n",
       "      <td>0.27</td>\n",
       "      <td>09/06/2022</td>\n",
       "      <td>Port of Shanghai (China)</td>\n",
       "      <td>HANA</td>\n",
       "      <td>15</td>\n",
       "      <td>14</td>\n",
       "      <td>Y</td>\n",
       "    </tr>\n",
       "  </tbody>\n",
       "</table>\n",
       "</div>"
      ],
      "text/plain": [
       "                        name  price ($)  weight (kg)  length (m)  width (m)  \\\n",
       "0    Pallete of Orange Juice     210.44       591.77        1.02       0.88   \n",
       "1  Big Bag with Metal Scraps     195.60      1727.34        1.85       1.14   \n",
       "2               Coffee Maker      96.32         1.08        0.23       0.22   \n",
       "\n",
       "   height (m) shipment date           port of loading  Vessel  \\\n",
       "0        1.50    24/06/2022  Port of Shanghai (China)   LINDA   \n",
       "1        0.12    12/11/2022     Port of Tokyo (Japan)  AURORA   \n",
       "2        0.27    09/06/2022  Port of Shanghai (China)    HANA   \n",
       "\n",
       "   Dwell after shipping  Customer Called for inspection  \n",
       "0                    47        11                     Y  \n",
       "1                    88         8                     N  \n",
       "2                    15        14                     Y  "
      ]
     },
     "execution_count": 84,
     "metadata": {},
     "output_type": "execute_result"
    }
   ],
   "source": [
    "df_raw.head(3)"
   ]
  },
  {
   "cell_type": "code",
   "execution_count": 85,
   "id": "ff94d92b",
   "metadata": {},
   "outputs": [
    {
     "data": {
      "text/plain": [
       "(2500, 12)"
      ]
     },
     "execution_count": 85,
     "metadata": {},
     "output_type": "execute_result"
    }
   ],
   "source": [
    "df_raw.shape"
   ]
  },
  {
   "cell_type": "markdown",
   "id": "f4a2699f",
   "metadata": {},
   "source": [
    "# Data cleaning"
   ]
  },
  {
   "cell_type": "code",
   "execution_count": 86,
   "id": "7b8b4c8d",
   "metadata": {},
   "outputs": [
    {
     "name": "stdout",
     "output_type": "stream",
     "text": [
      "<class 'pandas.core.frame.DataFrame'>\n",
      "RangeIndex: 2500 entries, 0 to 2499\n",
      "Data columns (total 12 columns):\n",
      " #   Column                 Non-Null Count  Dtype  \n",
      "---  ------                 --------------  -----  \n",
      " 0   name                   2500 non-null   object \n",
      " 1   price ($)              2500 non-null   float64\n",
      " 2   weight (kg)            2500 non-null   float64\n",
      " 3   length (m)             2498 non-null   float64\n",
      " 4   width (m)              2500 non-null   float64\n",
      " 5   height (m)             2500 non-null   float64\n",
      " 6   shipment date          2474 non-null   object \n",
      " 7   port of loading        2500 non-null   object \n",
      " 8   Vessel                 2500 non-null   object \n",
      " 9   Dwell after shipping   2500 non-null   int64  \n",
      " 10  Customer               2500 non-null   int64  \n",
      " 11  Called for inspection  2500 non-null   object \n",
      "dtypes: float64(5), int64(2), object(5)\n",
      "memory usage: 234.5+ KB\n"
     ]
    }
   ],
   "source": [
    "df_raw.info()"
   ]
  },
  {
   "cell_type": "code",
   "execution_count": 87,
   "id": "b9fac64e",
   "metadata": {},
   "outputs": [],
   "source": [
    "df_raw['shipment date'] = pd.to_datetime(df_raw['shipment date'], format='%d/%m/%Y')\n",
    "df_raw['Customer'] = df_raw['Customer'].astype('int', errors='ignore')"
   ]
  },
  {
   "cell_type": "markdown",
   "id": "52ce2a13",
   "metadata": {},
   "source": [
    "Since the customer number is just an anonymising encoding of a customer's identity, and has no significance, we should alter this to a non-numerical value to avoid the model deducing non-existent patterns between customer ID and other variables. If the number of unique values is less than 26, we could simply map the letters of the alphabet onto the values."
   ]
  },
  {
   "cell_type": "code",
   "execution_count": 88,
   "id": "770e6b67",
   "metadata": {
    "scrolled": true
   },
   "outputs": [
    {
     "data": {
      "text/plain": [
       "array([11,  8, 14,  6, 20,  2, 10, 13,  4,  5, 19, 16, 12,  3, 15,  9,  1,\n",
       "       17,  7, 18, 21])"
      ]
     },
     "execution_count": 88,
     "metadata": {},
     "output_type": "execute_result"
    }
   ],
   "source": [
    "df_raw['Customer'].unique()"
   ]
  },
  {
   "cell_type": "code",
   "execution_count": 89,
   "id": "2670d64c",
   "metadata": {},
   "outputs": [],
   "source": [
    "df_raw['Customer'] = df_raw['Customer'].apply(lambda x: chr(64+x))"
   ]
  },
  {
   "cell_type": "code",
   "execution_count": 90,
   "id": "33036a47",
   "metadata": {},
   "outputs": [
    {
     "data": {
      "text/plain": [
       "array(['K', 'H', 'N', 'F', 'T', 'B', 'J', 'M', 'D', 'E', 'S', 'P', 'L',\n",
       "       'C', 'O', 'I', 'A', 'Q', 'G', 'R', 'U'], dtype=object)"
      ]
     },
     "execution_count": 90,
     "metadata": {},
     "output_type": "execute_result"
    }
   ],
   "source": [
    "df_raw['Customer'].unique()"
   ]
  },
  {
   "cell_type": "markdown",
   "id": "9152ad05",
   "metadata": {},
   "source": [
    "The values in 'Customer' are now uppercase letters."
   ]
  },
  {
   "cell_type": "code",
   "execution_count": 91,
   "id": "1e9d88c8",
   "metadata": {},
   "outputs": [
    {
     "data": {
      "text/html": [
       "<div>\n",
       "<style scoped>\n",
       "    .dataframe tbody tr th:only-of-type {\n",
       "        vertical-align: middle;\n",
       "    }\n",
       "\n",
       "    .dataframe tbody tr th {\n",
       "        vertical-align: top;\n",
       "    }\n",
       "\n",
       "    .dataframe thead th {\n",
       "        text-align: right;\n",
       "    }\n",
       "</style>\n",
       "<table border=\"1\" class=\"dataframe\">\n",
       "  <thead>\n",
       "    <tr style=\"text-align: right;\">\n",
       "      <th></th>\n",
       "      <th>price ($)</th>\n",
       "      <th>weight (kg)</th>\n",
       "      <th>length (m)</th>\n",
       "      <th>width (m)</th>\n",
       "      <th>height (m)</th>\n",
       "      <th>Dwell after shipping</th>\n",
       "    </tr>\n",
       "  </thead>\n",
       "  <tbody>\n",
       "    <tr>\n",
       "      <th>count</th>\n",
       "      <td>2500.000</td>\n",
       "      <td>2500.000</td>\n",
       "      <td>2498.000</td>\n",
       "      <td>2500.000</td>\n",
       "      <td>2500.000</td>\n",
       "      <td>2500.000</td>\n",
       "    </tr>\n",
       "    <tr>\n",
       "      <th>mean</th>\n",
       "      <td>5875.059</td>\n",
       "      <td>332.007</td>\n",
       "      <td>0.963</td>\n",
       "      <td>0.538</td>\n",
       "      <td>0.466</td>\n",
       "      <td>45.734</td>\n",
       "    </tr>\n",
       "    <tr>\n",
       "      <th>std</th>\n",
       "      <td>81340.818</td>\n",
       "      <td>1649.015</td>\n",
       "      <td>1.908</td>\n",
       "      <td>0.453</td>\n",
       "      <td>0.501</td>\n",
       "      <td>21.694</td>\n",
       "    </tr>\n",
       "    <tr>\n",
       "      <th>min</th>\n",
       "      <td>2.090</td>\n",
       "      <td>0.050</td>\n",
       "      <td>0.050</td>\n",
       "      <td>0.020</td>\n",
       "      <td>0.010</td>\n",
       "      <td>1.000</td>\n",
       "    </tr>\n",
       "    <tr>\n",
       "      <th>25%</th>\n",
       "      <td>28.710</td>\n",
       "      <td>0.690</td>\n",
       "      <td>0.290</td>\n",
       "      <td>0.220</td>\n",
       "      <td>0.130</td>\n",
       "      <td>30.000</td>\n",
       "    </tr>\n",
       "    <tr>\n",
       "      <th>50%</th>\n",
       "      <td>92.170</td>\n",
       "      <td>2.900</td>\n",
       "      <td>0.600</td>\n",
       "      <td>0.390</td>\n",
       "      <td>0.260</td>\n",
       "      <td>46.000</td>\n",
       "    </tr>\n",
       "    <tr>\n",
       "      <th>75%</th>\n",
       "      <td>273.155</td>\n",
       "      <td>66.975</td>\n",
       "      <td>1.140</td>\n",
       "      <td>0.800</td>\n",
       "      <td>0.660</td>\n",
       "      <td>63.000</td>\n",
       "    </tr>\n",
       "    <tr>\n",
       "      <th>max</th>\n",
       "      <td>1814302.690</td>\n",
       "      <td>24671.600</td>\n",
       "      <td>28.830</td>\n",
       "      <td>5.240</td>\n",
       "      <td>5.540</td>\n",
       "      <td>104.000</td>\n",
       "    </tr>\n",
       "  </tbody>\n",
       "</table>\n",
       "</div>"
      ],
      "text/plain": [
       "         price ($)  weight (kg)  length (m)  width (m)  height (m)  \\\n",
       "count     2500.000     2500.000    2498.000   2500.000    2500.000   \n",
       "mean      5875.059      332.007       0.963      0.538       0.466   \n",
       "std      81340.818     1649.015       1.908      0.453       0.501   \n",
       "min          2.090        0.050       0.050      0.020       0.010   \n",
       "25%         28.710        0.690       0.290      0.220       0.130   \n",
       "50%         92.170        2.900       0.600      0.390       0.260   \n",
       "75%        273.155       66.975       1.140      0.800       0.660   \n",
       "max    1814302.690    24671.600      28.830      5.240       5.540   \n",
       "\n",
       "       Dwell after shipping  \n",
       "count              2500.000  \n",
       "mean                 45.734  \n",
       "std                  21.694  \n",
       "min                   1.000  \n",
       "25%                  30.000  \n",
       "50%                  46.000  \n",
       "75%                  63.000  \n",
       "max                 104.000  "
      ]
     },
     "execution_count": 91,
     "metadata": {},
     "output_type": "execute_result"
    }
   ],
   "source": [
    "df_raw.describe().round(3)"
   ]
  },
  {
   "cell_type": "code",
   "execution_count": 92,
   "id": "986dcdfa",
   "metadata": {},
   "outputs": [
    {
     "data": {
      "image/png": "[encoded data removed]",
      "text/plain": [
       "<Figure size 1080x720 with 6 Axes>"
      ]
     },
     "metadata": {
      "needs_background": "light"
     },
     "output_type": "display_data"
    }
   ],
   "source": [
    "l1 = ['price ($)', 'weight (kg)', 'length (m)']\n",
    "l2 = ['width (m)', 'height (m)', 'Dwell after shipping']\n",
    "\n",
    "fig, ax = plt.subplots(2,3, figsize=(15,10))\n",
    "\n",
    "n = 0\n",
    "for i in l1:\n",
    "    sns.histplot(df_raw[i], bins=10, ax=ax[0][n]).set_title(f'Distribution of {i}', size=12, pad=5)\n",
    "    n += 1\n",
    "n = 0\n",
    "for i in l2:\n",
    "    sns.histplot(df_raw[i], bins=10, ax=ax[1][n]).set_title(f'Distribution of {i}', size=12, pad=5)\n",
    "    n += 1"
   ]
  },
  {
   "cell_type": "code",
   "execution_count": 93,
   "id": "aea2ab7c",
   "metadata": {},
   "outputs": [
    {
     "data": {
      "image/png": "[encoded data removed]",
      "text/plain": [
       "<Figure size 1080x720 with 6 Axes>"
      ]
     },
     "metadata": {
      "needs_background": "light"
     },
     "output_type": "display_data"
    }
   ],
   "source": [
    "l1=['price ($)', 'weight (kg)', 'length (m)']\n",
    "l2 = ['width (m)', 'height (m)', 'Dwell after shipping']\n",
    "\n",
    "fig, ax = plt.subplots(2,3, figsize=(15,10))\n",
    "\n",
    "n = 0\n",
    "for i in l1:\n",
    "    sns.boxplot(df_raw[i], ax=ax[0][n]).set_title(f'Distribution of {i}', size=10, pad=5)\n",
    "    n += 1\n",
    "\n",
    "n = 0\n",
    "for i in l2:\n",
    "    sns.boxplot(df_raw[i], ax=ax[1][n]).set_title(f'Distribution of {i}', size=10, pad=5)\n",
    "    n += 1"
   ]
  },
  {
   "cell_type": "code",
   "execution_count": 94,
   "id": "575a7194",
   "metadata": {},
   "outputs": [
    {
     "name": "stdout",
     "output_type": "stream",
     "text": [
      "length (m) :  2\n",
      "shipment date :  26\n"
     ]
    }
   ],
   "source": [
    "for i in df_raw.columns:\n",
    "    if df_raw[i].isna().sum() != 0:\n",
    "        print(i, \": \", df_raw[i].isna().sum())"
   ]
  },
  {
   "cell_type": "code",
   "execution_count": 95,
   "id": "c52278e4",
   "metadata": {},
   "outputs": [],
   "source": [
    "df_missing = df_raw"
   ]
  },
  {
   "cell_type": "code",
   "execution_count": 96,
   "id": "04d5f035",
   "metadata": {},
   "outputs": [],
   "source": [
    "df_missing['missing date'] = df_missing['shipment date'].fillna(0).apply(lambda x: 0 if x == 0 else 1)\n",
    "df_missing['Called for inspection'] = df_missing['Called for inspection'].map({'Y': 1, 'N': 0})"
   ]
  },
  {
   "cell_type": "code",
   "execution_count": 97,
   "id": "c7c5f765",
   "metadata": {},
   "outputs": [
    {
     "data": {
      "text/html": [
       "<div>\n",
       "<style scoped>\n",
       "    .dataframe tbody tr th:only-of-type {\n",
       "        vertical-align: middle;\n",
       "    }\n",
       "\n",
       "    .dataframe tbody tr th {\n",
       "        vertical-align: top;\n",
       "    }\n",
       "\n",
       "    .dataframe thead th {\n",
       "        text-align: right;\n",
       "    }\n",
       "</style>\n",
       "<table border=\"1\" class=\"dataframe\">\n",
       "  <thead>\n",
       "    <tr style=\"text-align: right;\">\n",
       "      <th></th>\n",
       "      <th>name</th>\n",
       "      <th>price ($)</th>\n",
       "      <th>weight (kg)</th>\n",
       "      <th>length (m)</th>\n",
       "      <th>width (m)</th>\n",
       "      <th>height (m)</th>\n",
       "      <th>shipment date</th>\n",
       "      <th>port of loading</th>\n",
       "      <th>Vessel</th>\n",
       "      <th>Dwell after shipping</th>\n",
       "      <th>Customer</th>\n",
       "      <th>Called for inspection</th>\n",
       "      <th>missing date</th>\n",
       "    </tr>\n",
       "  </thead>\n",
       "  <tbody>\n",
       "    <tr>\n",
       "      <th>0</th>\n",
       "      <td>Pallete of Orange Juice</td>\n",
       "      <td>210.44</td>\n",
       "      <td>591.77</td>\n",
       "      <td>1.02</td>\n",
       "      <td>0.88</td>\n",
       "      <td>1.50</td>\n",
       "      <td>2022-06-24</td>\n",
       "      <td>Port of Shanghai (China)</td>\n",
       "      <td>LINDA</td>\n",
       "      <td>47</td>\n",
       "      <td>K</td>\n",
       "      <td>1</td>\n",
       "      <td>1</td>\n",
       "    </tr>\n",
       "    <tr>\n",
       "      <th>1</th>\n",
       "      <td>Big Bag with Metal Scraps</td>\n",
       "      <td>195.60</td>\n",
       "      <td>1727.34</td>\n",
       "      <td>1.85</td>\n",
       "      <td>1.14</td>\n",
       "      <td>0.12</td>\n",
       "      <td>2022-11-12</td>\n",
       "      <td>Port of Tokyo (Japan)</td>\n",
       "      <td>AURORA</td>\n",
       "      <td>88</td>\n",
       "      <td>H</td>\n",
       "      <td>0</td>\n",
       "      <td>1</td>\n",
       "    </tr>\n",
       "    <tr>\n",
       "      <th>2</th>\n",
       "      <td>Coffee Maker</td>\n",
       "      <td>96.32</td>\n",
       "      <td>1.08</td>\n",
       "      <td>0.23</td>\n",
       "      <td>0.22</td>\n",
       "      <td>0.27</td>\n",
       "      <td>2022-06-09</td>\n",
       "      <td>Port of Shanghai (China)</td>\n",
       "      <td>HANA</td>\n",
       "      <td>15</td>\n",
       "      <td>N</td>\n",
       "      <td>1</td>\n",
       "      <td>1</td>\n",
       "    </tr>\n",
       "    <tr>\n",
       "      <th>3</th>\n",
       "      <td>Pallete of Musical Instruments</td>\n",
       "      <td>885.97</td>\n",
       "      <td>1603.18</td>\n",
       "      <td>1.03</td>\n",
       "      <td>0.90</td>\n",
       "      <td>0.52</td>\n",
       "      <td>2022-12-08</td>\n",
       "      <td>Port of Tianjin (China)</td>\n",
       "      <td>HANA</td>\n",
       "      <td>73</td>\n",
       "      <td>F</td>\n",
       "      <td>0</td>\n",
       "      <td>1</td>\n",
       "    </tr>\n",
       "    <tr>\n",
       "      <th>4</th>\n",
       "      <td>Tomatoes (Canned)</td>\n",
       "      <td>1003.67</td>\n",
       "      <td>79.86</td>\n",
       "      <td>0.40</td>\n",
       "      <td>0.30</td>\n",
       "      <td>0.30</td>\n",
       "      <td>2022-12-25</td>\n",
       "      <td>Port of Tianjin (China)</td>\n",
       "      <td>HANA</td>\n",
       "      <td>65</td>\n",
       "      <td>F</td>\n",
       "      <td>0</td>\n",
       "      <td>1</td>\n",
       "    </tr>\n",
       "    <tr>\n",
       "      <th>...</th>\n",
       "      <td>...</td>\n",
       "      <td>...</td>\n",
       "      <td>...</td>\n",
       "      <td>...</td>\n",
       "      <td>...</td>\n",
       "      <td>...</td>\n",
       "      <td>...</td>\n",
       "      <td>...</td>\n",
       "      <td>...</td>\n",
       "      <td>...</td>\n",
       "      <td>...</td>\n",
       "      <td>...</td>\n",
       "      <td>...</td>\n",
       "    </tr>\n",
       "    <tr>\n",
       "      <th>2495</th>\n",
       "      <td>Tablets</td>\n",
       "      <td>920.36</td>\n",
       "      <td>0.27</td>\n",
       "      <td>0.87</td>\n",
       "      <td>0.23</td>\n",
       "      <td>0.21</td>\n",
       "      <td>2022-11-08</td>\n",
       "      <td>Port of Shanghai (China)</td>\n",
       "      <td>HANA</td>\n",
       "      <td>3</td>\n",
       "      <td>P</td>\n",
       "      <td>1</td>\n",
       "      <td>1</td>\n",
       "    </tr>\n",
       "    <tr>\n",
       "      <th>2496</th>\n",
       "      <td>Pallete of Plants</td>\n",
       "      <td>289.01</td>\n",
       "      <td>503.79</td>\n",
       "      <td>1.03</td>\n",
       "      <td>0.98</td>\n",
       "      <td>1.43</td>\n",
       "      <td>2022-02-04</td>\n",
       "      <td>Port of Busan (South Korea)</td>\n",
       "      <td>SERENA</td>\n",
       "      <td>16</td>\n",
       "      <td>K</td>\n",
       "      <td>1</td>\n",
       "      <td>1</td>\n",
       "    </tr>\n",
       "    <tr>\n",
       "      <th>2497</th>\n",
       "      <td>Pallete of Books</td>\n",
       "      <td>169.79</td>\n",
       "      <td>836.95</td>\n",
       "      <td>0.59</td>\n",
       "      <td>0.33</td>\n",
       "      <td>1.09</td>\n",
       "      <td>2022-07-18</td>\n",
       "      <td>Port of Tianjin (China)</td>\n",
       "      <td>LINDA</td>\n",
       "      <td>58</td>\n",
       "      <td>O</td>\n",
       "      <td>0</td>\n",
       "      <td>1</td>\n",
       "    </tr>\n",
       "    <tr>\n",
       "      <th>2498</th>\n",
       "      <td>Running Belt</td>\n",
       "      <td>22.74</td>\n",
       "      <td>0.12</td>\n",
       "      <td>0.21</td>\n",
       "      <td>0.09</td>\n",
       "      <td>0.09</td>\n",
       "      <td>2022-02-25</td>\n",
       "      <td>Port of Busan (South Korea)</td>\n",
       "      <td>AMELIA</td>\n",
       "      <td>67</td>\n",
       "      <td>Q</td>\n",
       "      <td>0</td>\n",
       "      <td>1</td>\n",
       "    </tr>\n",
       "    <tr>\n",
       "      <th>2499</th>\n",
       "      <td>Garden Sprayer</td>\n",
       "      <td>38.81</td>\n",
       "      <td>2.20</td>\n",
       "      <td>0.31</td>\n",
       "      <td>0.31</td>\n",
       "      <td>0.29</td>\n",
       "      <td>2022-12-19</td>\n",
       "      <td>Port of Shanghai (China)</td>\n",
       "      <td>HANA</td>\n",
       "      <td>72</td>\n",
       "      <td>C</td>\n",
       "      <td>0</td>\n",
       "      <td>1</td>\n",
       "    </tr>\n",
       "  </tbody>\n",
       "</table>\n",
       "<p>2500 rows × 13 columns</p>\n",
       "</div>"
      ],
      "text/plain": [
       "                                name  price ($)  weight (kg)  length (m)  \\\n",
       "0            Pallete of Orange Juice     210.44       591.77        1.02   \n",
       "1          Big Bag with Metal Scraps     195.60      1727.34        1.85   \n",
       "2                       Coffee Maker      96.32         1.08        0.23   \n",
       "3     Pallete of Musical Instruments     885.97      1603.18        1.03   \n",
       "4                  Tomatoes (Canned)    1003.67        79.86        0.40   \n",
       "...                              ...        ...          ...         ...   \n",
       "2495                         Tablets     920.36         0.27        0.87   \n",
       "2496               Pallete of Plants     289.01       503.79        1.03   \n",
       "2497                Pallete of Books     169.79       836.95        0.59   \n",
       "2498                    Running Belt      22.74         0.12        0.21   \n",
       "2499                  Garden Sprayer      38.81         2.20        0.31   \n",
       "\n",
       "      width (m)  height (m) shipment date              port of loading  \\\n",
       "0          0.88        1.50    2022-06-24     Port of Shanghai (China)   \n",
       "1          1.14        0.12    2022-11-12        Port of Tokyo (Japan)   \n",
       "2          0.22        0.27    2022-06-09     Port of Shanghai (China)   \n",
       "3          0.90        0.52    2022-12-08      Port of Tianjin (China)   \n",
       "4          0.30        0.30    2022-12-25      Port of Tianjin (China)   \n",
       "...         ...         ...           ...                          ...   \n",
       "2495       0.23        0.21    2022-11-08     Port of Shanghai (China)   \n",
       "2496       0.98        1.43    2022-02-04  Port of Busan (South Korea)   \n",
       "2497       0.33        1.09    2022-07-18      Port of Tianjin (China)   \n",
       "2498       0.09        0.09    2022-02-25  Port of Busan (South Korea)   \n",
       "2499       0.31        0.29    2022-12-19     Port of Shanghai (China)   \n",
       "\n",
       "      Vessel  Dwell after shipping Customer  Called for inspection  \\\n",
       "0      LINDA                    47        K                      1   \n",
       "1     AURORA                    88        H                      0   \n",
       "2       HANA                    15        N                      1   \n",
       "3       HANA                    73        F                      0   \n",
       "4       HANA                    65        F                      0   \n",
       "...      ...                   ...      ...                    ...   \n",
       "2495    HANA                     3        P                      1   \n",
       "2496  SERENA                    16        K                      1   \n",
       "2497   LINDA                    58        O                      0   \n",
       "2498  AMELIA                    67        Q                      0   \n",
       "2499    HANA                    72        C                      0   \n",
       "\n",
       "      missing date  \n",
       "0                1  \n",
       "1                1  \n",
       "2                1  \n",
       "3                1  \n",
       "4                1  \n",
       "...            ...  \n",
       "2495             1  \n",
       "2496             1  \n",
       "2497             1  \n",
       "2498             1  \n",
       "2499             1  \n",
       "\n",
       "[2500 rows x 13 columns]"
      ]
     },
     "execution_count": 97,
     "metadata": {},
     "output_type": "execute_result"
    }
   ],
   "source": [
    "df_missing"
   ]
  },
  {
   "cell_type": "code",
   "execution_count": 98,
   "id": "b2e6389d",
   "metadata": {},
   "outputs": [
    {
     "data": {
      "text/plain": [
       "count    2500.000000\n",
       "mean        0.989600\n",
       "std         0.101469\n",
       "min         0.000000\n",
       "25%         1.000000\n",
       "50%         1.000000\n",
       "75%         1.000000\n",
       "max         1.000000\n",
       "Name: missing date, dtype: float64"
      ]
     },
     "execution_count": 98,
     "metadata": {},
     "output_type": "execute_result"
    }
   ],
   "source": [
    "df_missing['missing date'].describe()"
   ]
  },
  {
   "cell_type": "code",
   "execution_count": 99,
   "id": "8c612666",
   "metadata": {},
   "outputs": [
    {
     "data": {
      "text/plain": [
       "Text(0.5, 1.0, \"Correlation matrix (Pearson's $r$)\")"
      ]
     },
     "execution_count": 99,
     "metadata": {},
     "output_type": "execute_result"
    },
    {
     "data": {
      "image/png": "[encoded data removed]",
      "text/plain": [
       "<Figure size 1440x432 with 4 Axes>"
      ]
     },
     "metadata": {
      "needs_background": "light"
     },
     "output_type": "display_data"
    }
   ],
   "source": [
    "fig, ax = plt.subplots(1,2, figsize=(20,6))\n",
    "sns.heatmap(df_missing.corr(method='spearman'), annot=True, fmt='.2f', cmap='vlag', vmin=-1, vmax=1, center=0, ax=ax[0]).set_title('Correlation matrix (Spearmans\\'s rank)', size=20, pad=15)\n",
    "sns.heatmap(df_missing.corr(method='pearson'), annot=True, fmt='.2f', cmap='vlag', vmin=-1, vmax=1, center=0).set_title('Correlation matrix (Pearson\\'s $r$)', size=20, pad=15)"
   ]
  },
  {
   "cell_type": "code",
   "execution_count": 100,
   "id": "73675e2e",
   "metadata": {},
   "outputs": [
    {
     "data": {
      "text/html": [
       "<div>\n",
       "<style scoped>\n",
       "    .dataframe tbody tr th:only-of-type {\n",
       "        vertical-align: middle;\n",
       "    }\n",
       "\n",
       "    .dataframe tbody tr th {\n",
       "        vertical-align: top;\n",
       "    }\n",
       "\n",
       "    .dataframe thead th {\n",
       "        text-align: right;\n",
       "    }\n",
       "</style>\n",
       "<table border=\"1\" class=\"dataframe\">\n",
       "  <thead>\n",
       "    <tr style=\"text-align: right;\">\n",
       "      <th>missing date</th>\n",
       "      <th>0</th>\n",
       "      <th>1</th>\n",
       "    </tr>\n",
       "    <tr>\n",
       "      <th>port of loading</th>\n",
       "      <th></th>\n",
       "      <th></th>\n",
       "    </tr>\n",
       "  </thead>\n",
       "  <tbody>\n",
       "    <tr>\n",
       "      <th>Port of Busan (South Korea)</th>\n",
       "      <td>0.984252</td>\n",
       "      <td>99.015748</td>\n",
       "    </tr>\n",
       "    <tr>\n",
       "      <th>Port of Shanghai (China)</th>\n",
       "      <td>1.544402</td>\n",
       "      <td>98.455598</td>\n",
       "    </tr>\n",
       "    <tr>\n",
       "      <th>Port of Singapore (Singapore)</th>\n",
       "      <td>0.210084</td>\n",
       "      <td>99.789916</td>\n",
       "    </tr>\n",
       "    <tr>\n",
       "      <th>Port of Tianjin (China)</th>\n",
       "      <td>1.228070</td>\n",
       "      <td>98.771930</td>\n",
       "    </tr>\n",
       "    <tr>\n",
       "      <th>Port of Tokyo (Japan)</th>\n",
       "      <td>1.168224</td>\n",
       "      <td>98.831776</td>\n",
       "    </tr>\n",
       "  </tbody>\n",
       "</table>\n",
       "</div>"
      ],
      "text/plain": [
       "missing date                          0          1\n",
       "port of loading                                   \n",
       "Port of Busan (South Korea)    0.984252  99.015748\n",
       "Port of Shanghai (China)       1.544402  98.455598\n",
       "Port of Singapore (Singapore)  0.210084  99.789916\n",
       "Port of Tianjin (China)        1.228070  98.771930\n",
       "Port of Tokyo (Japan)          1.168224  98.831776"
      ]
     },
     "execution_count": 100,
     "metadata": {},
     "output_type": "execute_result"
    }
   ],
   "source": [
    "d = df_missing.assign(vals=1).pivot_table(values = 'vals', \n",
    "                                      columns='missing date', \n",
    "                                      index='port of loading', \n",
    "                                      aggfunc='count').apply(lambda x: x*100 / float(x.sum()), axis=1)\n",
    "d = pd.DataFrame(d)\n",
    "d"
   ]
  },
  {
   "cell_type": "code",
   "execution_count": 101,
   "id": "0b440134",
   "metadata": {},
   "outputs": [
    {
     "data": {
      "text/html": [
       "<div>\n",
       "<style scoped>\n",
       "    .dataframe tbody tr th:only-of-type {\n",
       "        vertical-align: middle;\n",
       "    }\n",
       "\n",
       "    .dataframe tbody tr th {\n",
       "        vertical-align: top;\n",
       "    }\n",
       "\n",
       "    .dataframe thead th {\n",
       "        text-align: right;\n",
       "    }\n",
       "</style>\n",
       "<table border=\"1\" class=\"dataframe\">\n",
       "  <thead>\n",
       "    <tr style=\"text-align: right;\">\n",
       "      <th>Called for inspection</th>\n",
       "      <th>N</th>\n",
       "      <th>Y</th>\n",
       "    </tr>\n",
       "    <tr>\n",
       "      <th>port of loading</th>\n",
       "      <th></th>\n",
       "      <th></th>\n",
       "    </tr>\n",
       "  </thead>\n",
       "  <tbody>\n",
       "    <tr>\n",
       "      <th>Port of Busan (South Korea)</th>\n",
       "      <td>93.700787</td>\n",
       "      <td>6.299213</td>\n",
       "    </tr>\n",
       "    <tr>\n",
       "      <th>Port of Shanghai (China)</th>\n",
       "      <td>64.092664</td>\n",
       "      <td>35.907336</td>\n",
       "    </tr>\n",
       "    <tr>\n",
       "      <th>Port of Singapore (Singapore)</th>\n",
       "      <td>99.369748</td>\n",
       "      <td>0.630252</td>\n",
       "    </tr>\n",
       "    <tr>\n",
       "      <th>Port of Tianjin (China)</th>\n",
       "      <td>68.771930</td>\n",
       "      <td>31.228070</td>\n",
       "    </tr>\n",
       "    <tr>\n",
       "      <th>Port of Tokyo (Japan)</th>\n",
       "      <td>99.065421</td>\n",
       "      <td>0.934579</td>\n",
       "    </tr>\n",
       "  </tbody>\n",
       "</table>\n",
       "</div>"
      ],
      "text/plain": [
       "Called for inspection                  N          Y\n",
       "port of loading                                    \n",
       "Port of Busan (South Korea)    93.700787   6.299213\n",
       "Port of Shanghai (China)       64.092664  35.907336\n",
       "Port of Singapore (Singapore)  99.369748   0.630252\n",
       "Port of Tianjin (China)        68.771930  31.228070\n",
       "Port of Tokyo (Japan)          99.065421   0.934579"
      ]
     },
     "execution_count": 101,
     "metadata": {},
     "output_type": "execute_result"
    }
   ],
   "source": [
    "dd = df_missing.assign(vals=1).pivot_table(values = 'vals', \n",
    "                                      columns='Called for inspection', \n",
    "                                      index='port of loading', \n",
    "                                      aggfunc='count').apply(lambda x: x*100 / float(x.sum()), axis=1)\n",
    "dd = pd.DataFrame(dd)\n",
    "dd.rename({0:'N', 1:'Y'}, axis=1, inplace=True)\n",
    "dd"
   ]
  },
  {
   "cell_type": "code",
   "execution_count": 102,
   "id": "d5661a4d",
   "metadata": {},
   "outputs": [
    {
     "data": {
      "text/html": [
       "<div>\n",
       "<style scoped>\n",
       "    .dataframe tbody tr th:only-of-type {\n",
       "        vertical-align: middle;\n",
       "    }\n",
       "\n",
       "    .dataframe tbody tr th {\n",
       "        vertical-align: top;\n",
       "    }\n",
       "\n",
       "    .dataframe thead th {\n",
       "        text-align: right;\n",
       "    }\n",
       "</style>\n",
       "<table border=\"1\" class=\"dataframe\">\n",
       "  <thead>\n",
       "    <tr style=\"text-align: right;\">\n",
       "      <th></th>\n",
       "      <th>missing date</th>\n",
       "      <th>no missing date</th>\n",
       "      <th>no inspection</th>\n",
       "      <th>inspection</th>\n",
       "      <th>port of loading</th>\n",
       "    </tr>\n",
       "    <tr>\n",
       "      <th>port of loading</th>\n",
       "      <th></th>\n",
       "      <th></th>\n",
       "      <th></th>\n",
       "      <th></th>\n",
       "      <th></th>\n",
       "    </tr>\n",
       "  </thead>\n",
       "  <tbody>\n",
       "    <tr>\n",
       "      <th>Port of Busan (South Korea)</th>\n",
       "      <td>0.984252</td>\n",
       "      <td>99.015748</td>\n",
       "      <td>93.700787</td>\n",
       "      <td>6.299213</td>\n",
       "      <td>Port of Busan (South Korea)</td>\n",
       "    </tr>\n",
       "    <tr>\n",
       "      <th>Port of Shanghai (China)</th>\n",
       "      <td>1.544402</td>\n",
       "      <td>98.455598</td>\n",
       "      <td>64.092664</td>\n",
       "      <td>35.907336</td>\n",
       "      <td>Port of Shanghai (China)</td>\n",
       "    </tr>\n",
       "    <tr>\n",
       "      <th>Port of Singapore (Singapore)</th>\n",
       "      <td>0.210084</td>\n",
       "      <td>99.789916</td>\n",
       "      <td>99.369748</td>\n",
       "      <td>0.630252</td>\n",
       "      <td>Port of Singapore (Singapore)</td>\n",
       "    </tr>\n",
       "    <tr>\n",
       "      <th>Port of Tianjin (China)</th>\n",
       "      <td>1.228070</td>\n",
       "      <td>98.771930</td>\n",
       "      <td>68.771930</td>\n",
       "      <td>31.228070</td>\n",
       "      <td>Port of Tianjin (China)</td>\n",
       "    </tr>\n",
       "    <tr>\n",
       "      <th>Port of Tokyo (Japan)</th>\n",
       "      <td>1.168224</td>\n",
       "      <td>98.831776</td>\n",
       "      <td>99.065421</td>\n",
       "      <td>0.934579</td>\n",
       "      <td>Port of Tokyo (Japan)</td>\n",
       "    </tr>\n",
       "  </tbody>\n",
       "</table>\n",
       "</div>"
      ],
      "text/plain": [
       "                               missing date  no missing date  no inspection  \\\n",
       "port of loading                                                               \n",
       "Port of Busan (South Korea)        0.984252        99.015748      93.700787   \n",
       "Port of Shanghai (China)           1.544402        98.455598      64.092664   \n",
       "Port of Singapore (Singapore)      0.210084        99.789916      99.369748   \n",
       "Port of Tianjin (China)            1.228070        98.771930      68.771930   \n",
       "Port of Tokyo (Japan)              1.168224        98.831776      99.065421   \n",
       "\n",
       "                               inspection                port of loading  \n",
       "port of loading                                                           \n",
       "Port of Busan (South Korea)      6.299213    Port of Busan (South Korea)  \n",
       "Port of Shanghai (China)        35.907336       Port of Shanghai (China)  \n",
       "Port of Singapore (Singapore)    0.630252  Port of Singapore (Singapore)  \n",
       "Port of Tianjin (China)         31.228070        Port of Tianjin (China)  \n",
       "Port of Tokyo (Japan)            0.934579          Port of Tokyo (Japan)  "
      ]
     },
     "execution_count": 102,
     "metadata": {},
     "output_type": "execute_result"
    }
   ],
   "source": [
    "ddd = pd.concat([d, dd], axis=1, ignore_index=False)\n",
    "ddd.rename({0: 'missing date', 1: 'no missing date', 'N': 'no inspection', 'Y': 'inspection'}, axis=1, inplace=True)\n",
    "ddd.sort_values(by='missing date', ascending=False)\n",
    "ddd['port of loading'] = ddd.index\n",
    "ddd"
   ]
  },
  {
   "cell_type": "code",
   "execution_count": 103,
   "id": "0047bcb4",
   "metadata": {},
   "outputs": [],
   "source": [
    "ddd = pd.get_dummies(ddd, columns=['port of loading'])"
   ]
  },
  {
   "cell_type": "code",
   "execution_count": 104,
   "id": "10f0e855",
   "metadata": {
    "scrolled": true
   },
   "outputs": [
    {
     "data": {
      "text/html": [
       "<div>\n",
       "<style scoped>\n",
       "    .dataframe tbody tr th:only-of-type {\n",
       "        vertical-align: middle;\n",
       "    }\n",
       "\n",
       "    .dataframe tbody tr th {\n",
       "        vertical-align: top;\n",
       "    }\n",
       "\n",
       "    .dataframe thead th {\n",
       "        text-align: right;\n",
       "    }\n",
       "</style>\n",
       "<table border=\"1\" class=\"dataframe\">\n",
       "  <thead>\n",
       "    <tr style=\"text-align: right;\">\n",
       "      <th></th>\n",
       "      <th>missing date</th>\n",
       "      <th>no missing date</th>\n",
       "      <th>no inspection</th>\n",
       "      <th>inspection</th>\n",
       "      <th>port of loading_Port of Busan (South Korea)</th>\n",
       "      <th>port of loading_Port of Shanghai (China)</th>\n",
       "      <th>port of loading_Port of Singapore (Singapore)</th>\n",
       "      <th>port of loading_Port of Tianjin (China)</th>\n",
       "      <th>port of loading_Port of Tokyo (Japan)</th>\n",
       "    </tr>\n",
       "    <tr>\n",
       "      <th>port of loading</th>\n",
       "      <th></th>\n",
       "      <th></th>\n",
       "      <th></th>\n",
       "      <th></th>\n",
       "      <th></th>\n",
       "      <th></th>\n",
       "      <th></th>\n",
       "      <th></th>\n",
       "      <th></th>\n",
       "    </tr>\n",
       "  </thead>\n",
       "  <tbody>\n",
       "    <tr>\n",
       "      <th>Port of Busan (South Korea)</th>\n",
       "      <td>0.984252</td>\n",
       "      <td>99.015748</td>\n",
       "      <td>93.700787</td>\n",
       "      <td>6.299213</td>\n",
       "      <td>1</td>\n",
       "      <td>0</td>\n",
       "      <td>0</td>\n",
       "      <td>0</td>\n",
       "      <td>0</td>\n",
       "    </tr>\n",
       "    <tr>\n",
       "      <th>Port of Shanghai (China)</th>\n",
       "      <td>1.544402</td>\n",
       "      <td>98.455598</td>\n",
       "      <td>64.092664</td>\n",
       "      <td>35.907336</td>\n",
       "      <td>0</td>\n",
       "      <td>1</td>\n",
       "      <td>0</td>\n",
       "      <td>0</td>\n",
       "      <td>0</td>\n",
       "    </tr>\n",
       "    <tr>\n",
       "      <th>Port of Singapore (Singapore)</th>\n",
       "      <td>0.210084</td>\n",
       "      <td>99.789916</td>\n",
       "      <td>99.369748</td>\n",
       "      <td>0.630252</td>\n",
       "      <td>0</td>\n",
       "      <td>0</td>\n",
       "      <td>1</td>\n",
       "      <td>0</td>\n",
       "      <td>0</td>\n",
       "    </tr>\n",
       "    <tr>\n",
       "      <th>Port of Tianjin (China)</th>\n",
       "      <td>1.228070</td>\n",
       "      <td>98.771930</td>\n",
       "      <td>68.771930</td>\n",
       "      <td>31.228070</td>\n",
       "      <td>0</td>\n",
       "      <td>0</td>\n",
       "      <td>0</td>\n",
       "      <td>1</td>\n",
       "      <td>0</td>\n",
       "    </tr>\n",
       "    <tr>\n",
       "      <th>Port of Tokyo (Japan)</th>\n",
       "      <td>1.168224</td>\n",
       "      <td>98.831776</td>\n",
       "      <td>99.065421</td>\n",
       "      <td>0.934579</td>\n",
       "      <td>0</td>\n",
       "      <td>0</td>\n",
       "      <td>0</td>\n",
       "      <td>0</td>\n",
       "      <td>1</td>\n",
       "    </tr>\n",
       "  </tbody>\n",
       "</table>\n",
       "</div>"
      ],
      "text/plain": [
       "                               missing date  no missing date  no inspection  \\\n",
       "port of loading                                                               \n",
       "Port of Busan (South Korea)        0.984252        99.015748      93.700787   \n",
       "Port of Shanghai (China)           1.544402        98.455598      64.092664   \n",
       "Port of Singapore (Singapore)      0.210084        99.789916      99.369748   \n",
       "Port of Tianjin (China)            1.228070        98.771930      68.771930   \n",
       "Port of Tokyo (Japan)              1.168224        98.831776      99.065421   \n",
       "\n",
       "                               inspection  \\\n",
       "port of loading                             \n",
       "Port of Busan (South Korea)      6.299213   \n",
       "Port of Shanghai (China)        35.907336   \n",
       "Port of Singapore (Singapore)    0.630252   \n",
       "Port of Tianjin (China)         31.228070   \n",
       "Port of Tokyo (Japan)            0.934579   \n",
       "\n",
       "                               port of loading_Port of Busan (South Korea)  \\\n",
       "port of loading                                                              \n",
       "Port of Busan (South Korea)                                              1   \n",
       "Port of Shanghai (China)                                                 0   \n",
       "Port of Singapore (Singapore)                                            0   \n",
       "Port of Tianjin (China)                                                  0   \n",
       "Port of Tokyo (Japan)                                                    0   \n",
       "\n",
       "                               port of loading_Port of Shanghai (China)  \\\n",
       "port of loading                                                           \n",
       "Port of Busan (South Korea)                                           0   \n",
       "Port of Shanghai (China)                                              1   \n",
       "Port of Singapore (Singapore)                                         0   \n",
       "Port of Tianjin (China)                                               0   \n",
       "Port of Tokyo (Japan)                                                 0   \n",
       "\n",
       "                               port of loading_Port of Singapore (Singapore)  \\\n",
       "port of loading                                                                \n",
       "Port of Busan (South Korea)                                                0   \n",
       "Port of Shanghai (China)                                                   0   \n",
       "Port of Singapore (Singapore)                                              1   \n",
       "Port of Tianjin (China)                                                    0   \n",
       "Port of Tokyo (Japan)                                                      0   \n",
       "\n",
       "                               port of loading_Port of Tianjin (China)  \\\n",
       "port of loading                                                          \n",
       "Port of Busan (South Korea)                                          0   \n",
       "Port of Shanghai (China)                                             0   \n",
       "Port of Singapore (Singapore)                                        0   \n",
       "Port of Tianjin (China)                                              1   \n",
       "Port of Tokyo (Japan)                                                0   \n",
       "\n",
       "                               port of loading_Port of Tokyo (Japan)  \n",
       "port of loading                                                       \n",
       "Port of Busan (South Korea)                                        0  \n",
       "Port of Shanghai (China)                                           0  \n",
       "Port of Singapore (Singapore)                                      0  \n",
       "Port of Tianjin (China)                                            0  \n",
       "Port of Tokyo (Japan)                                              1  "
      ]
     },
     "execution_count": 104,
     "metadata": {},
     "output_type": "execute_result"
    }
   ],
   "source": [
    "ddd"
   ]
  },
  {
   "cell_type": "code",
   "execution_count": 105,
   "id": "138594db",
   "metadata": {},
   "outputs": [
    {
     "data": {
      "text/plain": [
       "Text(0.5, 1.0, \"Correlation matrix (Spearman's rank)\")"
      ]
     },
     "execution_count": 105,
     "metadata": {},
     "output_type": "execute_result"
    },
    {
     "data": {
      "image/png": "[encoded data removed]",
      "text/plain": [
       "<Figure size 432x288 with 2 Axes>"
      ]
     },
     "metadata": {
      "needs_background": "light"
     },
     "output_type": "display_data"
    }
   ],
   "source": [
    "sns.heatmap(ddd.corr(method='spearman'), annot=True, fmt='.2f', cmap='vlag', vmin=-1, vmax=1, center=0).set_title('Correlation matrix (Spearman\\'s rank)', size=20, pad=15)"
   ]
  },
  {
   "cell_type": "markdown",
   "id": "2746fc11",
   "metadata": {},
   "source": [
    "As the number of rows missing values for 'weight (kg)' and 'port of loading' is so small, is it more effective to drop them from the dataset than attempt to interpolate or otherwise attempt to predict the missing values."
   ]
  },
  {
   "cell_type": "code",
   "execution_count": 106,
   "id": "f7e310ae",
   "metadata": {},
   "outputs": [],
   "source": [
    "df = df_raw\n",
    "df = df[(~df['weight (kg)'].isna()) & (~df['port of loading'].isna())]"
   ]
  },
  {
   "cell_type": "code",
   "execution_count": 107,
   "id": "cd64f929",
   "metadata": {
    "scrolled": true
   },
   "outputs": [
    {
     "name": "stdout",
     "output_type": "stream",
     "text": [
      "<class 'pandas.core.frame.DataFrame'>\n",
      "Int64Index: 2500 entries, 0 to 2499\n",
      "Data columns (total 13 columns):\n",
      " #   Column                 Non-Null Count  Dtype         \n",
      "---  ------                 --------------  -----         \n",
      " 0   name                   2500 non-null   object        \n",
      " 1   price ($)              2500 non-null   float64       \n",
      " 2   weight (kg)            2500 non-null   float64       \n",
      " 3   length (m)             2498 non-null   float64       \n",
      " 4   width (m)              2500 non-null   float64       \n",
      " 5   height (m)             2500 non-null   float64       \n",
      " 6   shipment date          2474 non-null   datetime64[ns]\n",
      " 7   port of loading        2500 non-null   object        \n",
      " 8   Vessel                 2500 non-null   object        \n",
      " 9   Dwell after shipping   2500 non-null   int64         \n",
      " 10  Customer               2500 non-null   object        \n",
      " 11  Called for inspection  2500 non-null   int64         \n",
      " 12  missing date           2500 non-null   int64         \n",
      "dtypes: datetime64[ns](1), float64(5), int64(3), object(4)\n",
      "memory usage: 273.4+ KB\n"
     ]
    }
   ],
   "source": [
    "df.info()"
   ]
  },
  {
   "cell_type": "code",
   "execution_count": 108,
   "id": "73ebd7dd",
   "metadata": {},
   "outputs": [
    {
     "data": {
      "text/plain": [
       "count             2500\n",
       "unique             289\n",
       "top       Hiking Boots\n",
       "freq                31\n",
       "Name: name, dtype: object"
      ]
     },
     "execution_count": 108,
     "metadata": {},
     "output_type": "execute_result"
    }
   ],
   "source": [
    "df['name'].describe(include='all').T"
   ]
  },
  {
   "cell_type": "markdown",
   "id": "d3139fdd",
   "metadata": {},
   "source": [
    "As 'name' is a highly varied categorical variable, where the most frequent value accounts for only ~1.2% of rows, this column would be difficult to process to data which is in a useful format. It may be wortwhile dropping this column, in order to speed up the model and prevent it drawing false correlations."
   ]
  },
  {
   "cell_type": "code",
   "execution_count": 109,
   "id": "b791a2e7",
   "metadata": {},
   "outputs": [],
   "source": [
    "df = df.drop('name', axis=1)"
   ]
  },
  {
   "cell_type": "code",
   "execution_count": 110,
   "id": "4dd7986e",
   "metadata": {},
   "outputs": [
    {
     "data": {
      "text/plain": [
       "array([2022.,   nan])"
      ]
     },
     "execution_count": 110,
     "metadata": {},
     "output_type": "execute_result"
    }
   ],
   "source": [
    "df['shipment date'].dt.year.unique()"
   ]
  },
  {
   "cell_type": "code",
   "execution_count": 111,
   "id": "00a90c02",
   "metadata": {},
   "outputs": [],
   "source": [
    "df['weekday'] = df['shipment date'].dt.weekday\n",
    "df['shipment day'] = df['shipment date'].dt.day\n",
    "df['shipment month'] = df['shipment date'].dt.month"
   ]
  },
  {
   "cell_type": "code",
   "execution_count": 112,
   "id": "674802e5",
   "metadata": {},
   "outputs": [],
   "source": [
    "df = df.drop('shipment date', axis=1)"
   ]
  },
  {
   "cell_type": "markdown",
   "id": "56c59d19",
   "metadata": {},
   "source": [
    "# Data pre-processing"
   ]
  },
  {
   "cell_type": "markdown",
   "id": "65031801",
   "metadata": {},
   "source": [
    "The data needs to be split into feature and target variables: the variables which will be input into the model, and the variable which the model is expected to predict. I will name these _X_ and _y_."
   ]
  },
  {
   "cell_type": "code",
   "execution_count": 113,
   "id": "d54d07cf",
   "metadata": {},
   "outputs": [],
   "source": [
    "y = pd.DataFrame(df['Called for inspection'])"
   ]
  },
  {
   "cell_type": "code",
   "execution_count": 114,
   "id": "96b3c796",
   "metadata": {},
   "outputs": [],
   "source": [
    "X = df.drop('Called for inspection', axis=1)"
   ]
  },
  {
   "cell_type": "markdown",
   "id": "6a47c6ce",
   "metadata": {},
   "source": [
    "The numerical data needs to be scaled; unscaled data can distort the interpretatins of distance-based models like KNN and SVM (CHong, 2020).\n",
    "De Amorim et al (2023) in their analysis of the effects of different scaling methods on various model types show the standard scaler is generally the better scaler to use, and is especially suited to KNN, linear SVM, decision trees and bagging methods. "
   ]
  },
  {
   "cell_type": "markdown",
   "id": "dd48a533",
   "metadata": {},
   "source": [
    "The categorical data needs to be converted to numerical data. sklearn offers label encoding, where each unique value in a column is assigned an integer; this, however, can make it seem as if there were some ordinality between values (i.e. that there is rankign between values), which may not be true (Zach, 2022). One-hot encoding transforms the dataframe, creating a column for each unique category and assigning a 0 or 1 value if the original value of the untransformed column was the header of the new column. "
   ]
  },
  {
   "cell_type": "code",
   "execution_count": 115,
   "id": "1fe066d3",
   "metadata": {},
   "outputs": [],
   "source": [
    "cat_vars = ['port of loading', 'Vessel', 'Customer']\n",
    "df_categorical = X[cat_vars]\n",
    "df_numerical = X.drop(cat_vars, axis=1)\n",
    "num_vars = X.columns.drop(cat_vars)"
   ]
  },
  {
   "cell_type": "code",
   "execution_count": 116,
   "id": "643c20e4",
   "metadata": {},
   "outputs": [
    {
     "data": {
      "text/plain": [
       "Index(['price ($)', 'weight (kg)', 'length (m)', 'width (m)', 'height (m)',\n",
       "       'Dwell after shipping', 'missing date', 'weekday', 'shipment day',\n",
       "       'shipment month'],\n",
       "      dtype='object')"
      ]
     },
     "execution_count": 116,
     "metadata": {},
     "output_type": "execute_result"
    }
   ],
   "source": [
    "num_vars"
   ]
  },
  {
   "cell_type": "code",
   "execution_count": 117,
   "id": "79068f91",
   "metadata": {},
   "outputs": [],
   "source": [
    "from sklearn.preprocessing import OneHotEncoder, StandardScaler"
   ]
  },
  {
   "cell_type": "code",
   "execution_count": 118,
   "id": "08905090",
   "metadata": {},
   "outputs": [],
   "source": [
    "enc_cat = OneHotEncoder(handle_unknown='ignore', min_frequency=2, sparse_output=False)"
   ]
  },
  {
   "cell_type": "code",
   "execution_count": 119,
   "id": "13d6052b",
   "metadata": {},
   "outputs": [],
   "source": [
    "enc_num = StandardScaler()"
   ]
  },
  {
   "cell_type": "code",
   "execution_count": 120,
   "id": "a37b1cbf",
   "metadata": {},
   "outputs": [],
   "source": [
    "from sklearn.compose import ColumnTransformer\n",
    "\n",
    "preprocessor = ColumnTransformer([('OneHotEncoder', enc_cat, cat_vars), ('StandardScaler', enc_num, num_vars)], \n",
    "                                 sparse_threshold=0.5)"
   ]
  },
  {
   "cell_type": "markdown",
   "id": "fbe6ce7c",
   "metadata": {},
   "source": [
    "https://inria.github.io/scikit-learn-mooc/python_scripts/03_categorical_pipeline_column_transformer.html"
   ]
  },
  {
   "cell_type": "code",
   "execution_count": 121,
   "id": "7ad02030",
   "metadata": {},
   "outputs": [],
   "source": [
    "preprocessed_df = pd.DataFrame(preprocessor.fit_transform(df))"
   ]
  },
  {
   "cell_type": "markdown",
   "id": "b8ec2a80",
   "metadata": {},
   "source": [
    "## Imputing missing values"
   ]
  },
  {
   "cell_type": "code",
   "execution_count": 122,
   "id": "3e9d48dd",
   "metadata": {},
   "outputs": [],
   "source": [
    "from sklearn.impute import KNNImputer\n",
    "\n",
    "imputer = KNNImputer(n_neighbors=5)"
   ]
  },
  {
   "cell_type": "code",
   "execution_count": 123,
   "id": "3f8f8846",
   "metadata": {},
   "outputs": [],
   "source": [
    "imputed_arr = imputer.fit_transform(preprocessed_df)"
   ]
  },
  {
   "cell_type": "code",
   "execution_count": 124,
   "id": "85d6470a",
   "metadata": {},
   "outputs": [],
   "source": [
    "df_imp = pd.DataFrame(imputed_arr)"
   ]
  },
  {
   "cell_type": "code",
   "execution_count": 125,
   "id": "64ee8b92",
   "metadata": {},
   "outputs": [],
   "source": [
    "for i in df_imp.columns:\n",
    "    if df_imp[i].isna().sum() > 0:\n",
    "        print(i, \": \", df_imp[i].isna().sum())"
   ]
  },
  {
   "cell_type": "code",
   "execution_count": 126,
   "id": "61fe3026",
   "metadata": {},
   "outputs": [
    {
     "data": {
      "text/html": [
       "<div>\n",
       "<style scoped>\n",
       "    .dataframe tbody tr th:only-of-type {\n",
       "        vertical-align: middle;\n",
       "    }\n",
       "\n",
       "    .dataframe tbody tr th {\n",
       "        vertical-align: top;\n",
       "    }\n",
       "\n",
       "    .dataframe thead th {\n",
       "        text-align: right;\n",
       "    }\n",
       "</style>\n",
       "<table border=\"1\" class=\"dataframe\">\n",
       "  <thead>\n",
       "    <tr style=\"text-align: right;\">\n",
       "      <th></th>\n",
       "      <th>0</th>\n",
       "      <th>1</th>\n",
       "      <th>2</th>\n",
       "      <th>3</th>\n",
       "      <th>4</th>\n",
       "      <th>5</th>\n",
       "      <th>6</th>\n",
       "      <th>7</th>\n",
       "      <th>8</th>\n",
       "      <th>9</th>\n",
       "      <th>...</th>\n",
       "      <th>32</th>\n",
       "      <th>33</th>\n",
       "      <th>34</th>\n",
       "      <th>35</th>\n",
       "      <th>36</th>\n",
       "      <th>37</th>\n",
       "      <th>38</th>\n",
       "      <th>39</th>\n",
       "      <th>40</th>\n",
       "      <th>41</th>\n",
       "    </tr>\n",
       "  </thead>\n",
       "  <tbody>\n",
       "    <tr>\n",
       "      <th>0</th>\n",
       "      <td>0.0</td>\n",
       "      <td>1.0</td>\n",
       "      <td>0.0</td>\n",
       "      <td>0.0</td>\n",
       "      <td>0.0</td>\n",
       "      <td>0.0</td>\n",
       "      <td>0.0</td>\n",
       "      <td>0.0</td>\n",
       "      <td>1.0</td>\n",
       "      <td>0.0</td>\n",
       "      <td>...</td>\n",
       "      <td>-0.069654</td>\n",
       "      <td>0.157558</td>\n",
       "      <td>0.029620</td>\n",
       "      <td>0.755272</td>\n",
       "      <td>2.066314</td>\n",
       "      <td>0.058387</td>\n",
       "      <td>0.102515</td>\n",
       "      <td>0.492473</td>\n",
       "      <td>0.942801</td>\n",
       "      <td>-0.161017</td>\n",
       "    </tr>\n",
       "    <tr>\n",
       "      <th>1</th>\n",
       "      <td>0.0</td>\n",
       "      <td>0.0</td>\n",
       "      <td>0.0</td>\n",
       "      <td>0.0</td>\n",
       "      <td>1.0</td>\n",
       "      <td>0.0</td>\n",
       "      <td>1.0</td>\n",
       "      <td>0.0</td>\n",
       "      <td>0.0</td>\n",
       "      <td>0.0</td>\n",
       "      <td>...</td>\n",
       "      <td>-0.069837</td>\n",
       "      <td>0.846331</td>\n",
       "      <td>0.464649</td>\n",
       "      <td>1.329899</td>\n",
       "      <td>-0.691158</td>\n",
       "      <td>1.948690</td>\n",
       "      <td>0.102515</td>\n",
       "      <td>0.993862</td>\n",
       "      <td>-0.418177</td>\n",
       "      <td>1.284394</td>\n",
       "    </tr>\n",
       "    <tr>\n",
       "      <th>2</th>\n",
       "      <td>0.0</td>\n",
       "      <td>1.0</td>\n",
       "      <td>0.0</td>\n",
       "      <td>0.0</td>\n",
       "      <td>0.0</td>\n",
       "      <td>0.0</td>\n",
       "      <td>0.0</td>\n",
       "      <td>1.0</td>\n",
       "      <td>0.0</td>\n",
       "      <td>0.0</td>\n",
       "      <td>...</td>\n",
       "      <td>-0.071058</td>\n",
       "      <td>-0.200721</td>\n",
       "      <td>-0.384443</td>\n",
       "      <td>-0.703397</td>\n",
       "      <td>-0.391433</td>\n",
       "      <td>-1.416971</td>\n",
       "      <td>0.102515</td>\n",
       "      <td>-0.008917</td>\n",
       "      <td>-0.758421</td>\n",
       "      <td>-0.161017</td>\n",
       "    </tr>\n",
       "  </tbody>\n",
       "</table>\n",
       "<p>3 rows × 42 columns</p>\n",
       "</div>"
      ],
      "text/plain": [
       "    0    1    2    3    4    5    6    7    8    9   ...        32        33  \\\n",
       "0  0.0  1.0  0.0  0.0  0.0  0.0  0.0  0.0  1.0  0.0  ... -0.069654  0.157558   \n",
       "1  0.0  0.0  0.0  0.0  1.0  0.0  1.0  0.0  0.0  0.0  ... -0.069837  0.846331   \n",
       "2  0.0  1.0  0.0  0.0  0.0  0.0  0.0  1.0  0.0  0.0  ... -0.071058 -0.200721   \n",
       "\n",
       "         34        35        36        37        38        39        40  \\\n",
       "0  0.029620  0.755272  2.066314  0.058387  0.102515  0.492473  0.942801   \n",
       "1  0.464649  1.329899 -0.691158  1.948690  0.102515  0.993862 -0.418177   \n",
       "2 -0.384443 -0.703397 -0.391433 -1.416971  0.102515 -0.008917 -0.758421   \n",
       "\n",
       "         41  \n",
       "0 -0.161017  \n",
       "1  1.284394  \n",
       "2 -0.161017  \n",
       "\n",
       "[3 rows x 42 columns]"
      ]
     },
     "execution_count": 126,
     "metadata": {},
     "output_type": "execute_result"
    }
   ],
   "source": [
    "df_imp.head(3)"
   ]
  },
  {
   "cell_type": "code",
   "execution_count": 127,
   "id": "dcfc9b29",
   "metadata": {},
   "outputs": [],
   "source": [
    "X = df_imp"
   ]
  },
  {
   "cell_type": "markdown",
   "id": "28b5fb0f",
   "metadata": {},
   "source": [
    "## Putting back column names"
   ]
  },
  {
   "cell_type": "code",
   "execution_count": 128,
   "id": "79063a84",
   "metadata": {},
   "outputs": [
    {
     "data": {
      "text/plain": [
       "{'OneHotEncoder': OneHotEncoder(handle_unknown='ignore', min_frequency=2, sparse_output=False),\n",
       " 'StandardScaler': StandardScaler(),\n",
       " 'remainder': 'drop'}"
      ]
     },
     "execution_count": 128,
     "metadata": {},
     "output_type": "execute_result"
    }
   ],
   "source": [
    "preprocessor.named_transformers_"
   ]
  },
  {
   "cell_type": "code",
   "execution_count": 129,
   "id": "eda06dd8",
   "metadata": {},
   "outputs": [],
   "source": [
    "enc_cat_features = preprocessor.named_transformers_['OneHotEncoder'].get_feature_names_out()"
   ]
  },
  {
   "cell_type": "code",
   "execution_count": 130,
   "id": "0bead258",
   "metadata": {
    "scrolled": true
   },
   "outputs": [
    {
     "data": {
      "text/plain": [
       "array(['port of loading_Port of Busan (South Korea)',\n",
       "       'port of loading_Port of Shanghai (China)',\n",
       "       'port of loading_Port of Singapore (Singapore)',\n",
       "       'port of loading_Port of Tianjin (China)',\n",
       "       'port of loading_Port of Tokyo (Japan)', 'Vessel_AMELIA',\n",
       "       'Vessel_AURORA', 'Vessel_HANA', 'Vessel_LINDA', 'Vessel_SAKURA',\n",
       "       'Vessel_SERENA', 'Customer_A', 'Customer_B', 'Customer_C',\n",
       "       'Customer_D', 'Customer_E', 'Customer_F', 'Customer_G',\n",
       "       'Customer_H', 'Customer_I', 'Customer_J', 'Customer_K',\n",
       "       'Customer_L', 'Customer_M', 'Customer_N', 'Customer_O',\n",
       "       'Customer_P', 'Customer_Q', 'Customer_R', 'Customer_S',\n",
       "       'Customer_T', 'Customer_infrequent_sklearn'], dtype=object)"
      ]
     },
     "execution_count": 130,
     "metadata": {},
     "output_type": "execute_result"
    }
   ],
   "source": [
    "enc_cat_features"
   ]
  },
  {
   "cell_type": "code",
   "execution_count": 131,
   "id": "c4914e8f",
   "metadata": {},
   "outputs": [],
   "source": [
    "enc_num_features = preprocessor.named_transformers_['StandardScaler'].get_feature_names_out()"
   ]
  },
  {
   "cell_type": "code",
   "execution_count": 132,
   "id": "a368e006",
   "metadata": {},
   "outputs": [
    {
     "data": {
      "text/plain": [
       "array(['price ($)', 'weight (kg)', 'length (m)', 'width (m)',\n",
       "       'height (m)', 'Dwell after shipping', 'missing date', 'weekday',\n",
       "       'shipment day', 'shipment month'], dtype=object)"
      ]
     },
     "execution_count": 132,
     "metadata": {},
     "output_type": "execute_result"
    }
   ],
   "source": [
    "enc_num_features"
   ]
  },
  {
   "cell_type": "code",
   "execution_count": 133,
   "id": "78081ed3",
   "metadata": {
    "scrolled": true
   },
   "outputs": [],
   "source": [
    "coldict = {}\n",
    "x=0\n",
    "\n",
    "for i in enc_cat_features:\n",
    "    coldict[x] = i\n",
    "    x +=1\n",
    "\n",
    "for j in enc_num_features:\n",
    "    coldict[x] = j\n",
    "    x += 1\n",
    "    \n",
    "X = X.rename(mapper=coldict, axis=1)"
   ]
  },
  {
   "cell_type": "code",
   "execution_count": 134,
   "id": "03146e32",
   "metadata": {
    "scrolled": true
   },
   "outputs": [
    {
     "data": {
      "text/html": [
       "<div>\n",
       "<style scoped>\n",
       "    .dataframe tbody tr th:only-of-type {\n",
       "        vertical-align: middle;\n",
       "    }\n",
       "\n",
       "    .dataframe tbody tr th {\n",
       "        vertical-align: top;\n",
       "    }\n",
       "\n",
       "    .dataframe thead th {\n",
       "        text-align: right;\n",
       "    }\n",
       "</style>\n",
       "<table border=\"1\" class=\"dataframe\">\n",
       "  <thead>\n",
       "    <tr style=\"text-align: right;\">\n",
       "      <th></th>\n",
       "      <th>port of loading_Port of Busan (South Korea)</th>\n",
       "      <th>port of loading_Port of Shanghai (China)</th>\n",
       "      <th>port of loading_Port of Singapore (Singapore)</th>\n",
       "      <th>port of loading_Port of Tianjin (China)</th>\n",
       "      <th>port of loading_Port of Tokyo (Japan)</th>\n",
       "      <th>Vessel_AMELIA</th>\n",
       "      <th>Vessel_AURORA</th>\n",
       "      <th>Vessel_HANA</th>\n",
       "      <th>Vessel_LINDA</th>\n",
       "      <th>Vessel_SAKURA</th>\n",
       "      <th>...</th>\n",
       "      <th>price ($)</th>\n",
       "      <th>weight (kg)</th>\n",
       "      <th>length (m)</th>\n",
       "      <th>width (m)</th>\n",
       "      <th>height (m)</th>\n",
       "      <th>Dwell after shipping</th>\n",
       "      <th>missing date</th>\n",
       "      <th>weekday</th>\n",
       "      <th>shipment day</th>\n",
       "      <th>shipment month</th>\n",
       "    </tr>\n",
       "  </thead>\n",
       "  <tbody>\n",
       "    <tr>\n",
       "      <th>0</th>\n",
       "      <td>0.0</td>\n",
       "      <td>1.0</td>\n",
       "      <td>0.0</td>\n",
       "      <td>0.0</td>\n",
       "      <td>0.0</td>\n",
       "      <td>0.0</td>\n",
       "      <td>0.0</td>\n",
       "      <td>0.0</td>\n",
       "      <td>1.0</td>\n",
       "      <td>0.0</td>\n",
       "      <td>...</td>\n",
       "      <td>-0.069654</td>\n",
       "      <td>0.157558</td>\n",
       "      <td>0.029620</td>\n",
       "      <td>0.755272</td>\n",
       "      <td>2.066314</td>\n",
       "      <td>0.058387</td>\n",
       "      <td>0.102515</td>\n",
       "      <td>0.492473</td>\n",
       "      <td>0.942801</td>\n",
       "      <td>-0.161017</td>\n",
       "    </tr>\n",
       "    <tr>\n",
       "      <th>1</th>\n",
       "      <td>0.0</td>\n",
       "      <td>0.0</td>\n",
       "      <td>0.0</td>\n",
       "      <td>0.0</td>\n",
       "      <td>1.0</td>\n",
       "      <td>0.0</td>\n",
       "      <td>1.0</td>\n",
       "      <td>0.0</td>\n",
       "      <td>0.0</td>\n",
       "      <td>0.0</td>\n",
       "      <td>...</td>\n",
       "      <td>-0.069837</td>\n",
       "      <td>0.846331</td>\n",
       "      <td>0.464649</td>\n",
       "      <td>1.329899</td>\n",
       "      <td>-0.691158</td>\n",
       "      <td>1.948690</td>\n",
       "      <td>0.102515</td>\n",
       "      <td>0.993862</td>\n",
       "      <td>-0.418177</td>\n",
       "      <td>1.284394</td>\n",
       "    </tr>\n",
       "    <tr>\n",
       "      <th>2</th>\n",
       "      <td>0.0</td>\n",
       "      <td>1.0</td>\n",
       "      <td>0.0</td>\n",
       "      <td>0.0</td>\n",
       "      <td>0.0</td>\n",
       "      <td>0.0</td>\n",
       "      <td>0.0</td>\n",
       "      <td>1.0</td>\n",
       "      <td>0.0</td>\n",
       "      <td>0.0</td>\n",
       "      <td>...</td>\n",
       "      <td>-0.071058</td>\n",
       "      <td>-0.200721</td>\n",
       "      <td>-0.384443</td>\n",
       "      <td>-0.703397</td>\n",
       "      <td>-0.391433</td>\n",
       "      <td>-1.416971</td>\n",
       "      <td>0.102515</td>\n",
       "      <td>-0.008917</td>\n",
       "      <td>-0.758421</td>\n",
       "      <td>-0.161017</td>\n",
       "    </tr>\n",
       "    <tr>\n",
       "      <th>3</th>\n",
       "      <td>0.0</td>\n",
       "      <td>0.0</td>\n",
       "      <td>0.0</td>\n",
       "      <td>1.0</td>\n",
       "      <td>0.0</td>\n",
       "      <td>0.0</td>\n",
       "      <td>0.0</td>\n",
       "      <td>1.0</td>\n",
       "      <td>0.0</td>\n",
       "      <td>0.0</td>\n",
       "      <td>...</td>\n",
       "      <td>-0.061348</td>\n",
       "      <td>0.771022</td>\n",
       "      <td>0.034862</td>\n",
       "      <td>0.799474</td>\n",
       "      <td>0.108109</td>\n",
       "      <td>1.257116</td>\n",
       "      <td>0.102515</td>\n",
       "      <td>-0.008917</td>\n",
       "      <td>-0.871836</td>\n",
       "      <td>1.573476</td>\n",
       "    </tr>\n",
       "    <tr>\n",
       "      <th>4</th>\n",
       "      <td>0.0</td>\n",
       "      <td>0.0</td>\n",
       "      <td>0.0</td>\n",
       "      <td>1.0</td>\n",
       "      <td>0.0</td>\n",
       "      <td>0.0</td>\n",
       "      <td>0.0</td>\n",
       "      <td>1.0</td>\n",
       "      <td>0.0</td>\n",
       "      <td>0.0</td>\n",
       "      <td>...</td>\n",
       "      <td>-0.059901</td>\n",
       "      <td>-0.152938</td>\n",
       "      <td>-0.295341</td>\n",
       "      <td>-0.526588</td>\n",
       "      <td>-0.331488</td>\n",
       "      <td>0.888276</td>\n",
       "      <td>0.102515</td>\n",
       "      <td>1.495252</td>\n",
       "      <td>1.056215</td>\n",
       "      <td>1.573476</td>\n",
       "    </tr>\n",
       "    <tr>\n",
       "      <th>...</th>\n",
       "      <td>...</td>\n",
       "      <td>...</td>\n",
       "      <td>...</td>\n",
       "      <td>...</td>\n",
       "      <td>...</td>\n",
       "      <td>...</td>\n",
       "      <td>...</td>\n",
       "      <td>...</td>\n",
       "      <td>...</td>\n",
       "      <td>...</td>\n",
       "      <td>...</td>\n",
       "      <td>...</td>\n",
       "      <td>...</td>\n",
       "      <td>...</td>\n",
       "      <td>...</td>\n",
       "      <td>...</td>\n",
       "      <td>...</td>\n",
       "      <td>...</td>\n",
       "      <td>...</td>\n",
       "      <td>...</td>\n",
       "      <td>...</td>\n",
       "    </tr>\n",
       "    <tr>\n",
       "      <th>2495</th>\n",
       "      <td>0.0</td>\n",
       "      <td>1.0</td>\n",
       "      <td>0.0</td>\n",
       "      <td>0.0</td>\n",
       "      <td>0.0</td>\n",
       "      <td>0.0</td>\n",
       "      <td>0.0</td>\n",
       "      <td>1.0</td>\n",
       "      <td>0.0</td>\n",
       "      <td>0.0</td>\n",
       "      <td>...</td>\n",
       "      <td>-0.060925</td>\n",
       "      <td>-0.201213</td>\n",
       "      <td>-0.048999</td>\n",
       "      <td>-0.681296</td>\n",
       "      <td>-0.511323</td>\n",
       "      <td>-1.970230</td>\n",
       "      <td>0.102515</td>\n",
       "      <td>-1.011697</td>\n",
       "      <td>-0.871836</td>\n",
       "      <td>1.284394</td>\n",
       "    </tr>\n",
       "    <tr>\n",
       "      <th>2496</th>\n",
       "      <td>1.0</td>\n",
       "      <td>0.0</td>\n",
       "      <td>0.0</td>\n",
       "      <td>0.0</td>\n",
       "      <td>0.0</td>\n",
       "      <td>0.0</td>\n",
       "      <td>0.0</td>\n",
       "      <td>0.0</td>\n",
       "      <td>0.0</td>\n",
       "      <td>0.0</td>\n",
       "      <td>...</td>\n",
       "      <td>-0.068688</td>\n",
       "      <td>0.104194</td>\n",
       "      <td>0.034862</td>\n",
       "      <td>0.976283</td>\n",
       "      <td>1.926442</td>\n",
       "      <td>-1.370866</td>\n",
       "      <td>0.102515</td>\n",
       "      <td>0.492473</td>\n",
       "      <td>-1.325495</td>\n",
       "      <td>-1.317345</td>\n",
       "    </tr>\n",
       "    <tr>\n",
       "      <th>2497</th>\n",
       "      <td>0.0</td>\n",
       "      <td>0.0</td>\n",
       "      <td>0.0</td>\n",
       "      <td>1.0</td>\n",
       "      <td>0.0</td>\n",
       "      <td>0.0</td>\n",
       "      <td>0.0</td>\n",
       "      <td>0.0</td>\n",
       "      <td>1.0</td>\n",
       "      <td>0.0</td>\n",
       "      <td>...</td>\n",
       "      <td>-0.070154</td>\n",
       "      <td>0.306270</td>\n",
       "      <td>-0.195756</td>\n",
       "      <td>-0.460285</td>\n",
       "      <td>1.247065</td>\n",
       "      <td>0.565542</td>\n",
       "      <td>0.102515</td>\n",
       "      <td>-1.513086</td>\n",
       "      <td>0.262312</td>\n",
       "      <td>0.128065</td>\n",
       "    </tr>\n",
       "    <tr>\n",
       "      <th>2498</th>\n",
       "      <td>1.0</td>\n",
       "      <td>0.0</td>\n",
       "      <td>0.0</td>\n",
       "      <td>0.0</td>\n",
       "      <td>0.0</td>\n",
       "      <td>1.0</td>\n",
       "      <td>0.0</td>\n",
       "      <td>0.0</td>\n",
       "      <td>0.0</td>\n",
       "      <td>0.0</td>\n",
       "      <td>...</td>\n",
       "      <td>-0.071963</td>\n",
       "      <td>-0.201304</td>\n",
       "      <td>-0.394926</td>\n",
       "      <td>-0.990710</td>\n",
       "      <td>-0.751104</td>\n",
       "      <td>0.980486</td>\n",
       "      <td>0.102515</td>\n",
       "      <td>0.492473</td>\n",
       "      <td>1.056215</td>\n",
       "      <td>-1.317345</td>\n",
       "    </tr>\n",
       "    <tr>\n",
       "      <th>2499</th>\n",
       "      <td>0.0</td>\n",
       "      <td>1.0</td>\n",
       "      <td>0.0</td>\n",
       "      <td>0.0</td>\n",
       "      <td>0.0</td>\n",
       "      <td>0.0</td>\n",
       "      <td>0.0</td>\n",
       "      <td>1.0</td>\n",
       "      <td>0.0</td>\n",
       "      <td>0.0</td>\n",
       "      <td>...</td>\n",
       "      <td>-0.071765</td>\n",
       "      <td>-0.200042</td>\n",
       "      <td>-0.342513</td>\n",
       "      <td>-0.504487</td>\n",
       "      <td>-0.351470</td>\n",
       "      <td>1.211011</td>\n",
       "      <td>0.102515</td>\n",
       "      <td>-1.513086</td>\n",
       "      <td>0.375727</td>\n",
       "      <td>1.573476</td>\n",
       "    </tr>\n",
       "  </tbody>\n",
       "</table>\n",
       "<p>2500 rows × 42 columns</p>\n",
       "</div>"
      ],
      "text/plain": [
       "      port of loading_Port of Busan (South Korea)  \\\n",
       "0                                             0.0   \n",
       "1                                             0.0   \n",
       "2                                             0.0   \n",
       "3                                             0.0   \n",
       "4                                             0.0   \n",
       "...                                           ...   \n",
       "2495                                          0.0   \n",
       "2496                                          1.0   \n",
       "2497                                          0.0   \n",
       "2498                                          1.0   \n",
       "2499                                          0.0   \n",
       "\n",
       "      port of loading_Port of Shanghai (China)  \\\n",
       "0                                          1.0   \n",
       "1                                          0.0   \n",
       "2                                          1.0   \n",
       "3                                          0.0   \n",
       "4                                          0.0   \n",
       "...                                        ...   \n",
       "2495                                       1.0   \n",
       "2496                                       0.0   \n",
       "2497                                       0.0   \n",
       "2498                                       0.0   \n",
       "2499                                       1.0   \n",
       "\n",
       "      port of loading_Port of Singapore (Singapore)  \\\n",
       "0                                               0.0   \n",
       "1                                               0.0   \n",
       "2                                               0.0   \n",
       "3                                               0.0   \n",
       "4                                               0.0   \n",
       "...                                             ...   \n",
       "2495                                            0.0   \n",
       "2496                                            0.0   \n",
       "2497                                            0.0   \n",
       "2498                                            0.0   \n",
       "2499                                            0.0   \n",
       "\n",
       "      port of loading_Port of Tianjin (China)  \\\n",
       "0                                         0.0   \n",
       "1                                         0.0   \n",
       "2                                         0.0   \n",
       "3                                         1.0   \n",
       "4                                         1.0   \n",
       "...                                       ...   \n",
       "2495                                      0.0   \n",
       "2496                                      0.0   \n",
       "2497                                      1.0   \n",
       "2498                                      0.0   \n",
       "2499                                      0.0   \n",
       "\n",
       "      port of loading_Port of Tokyo (Japan)  Vessel_AMELIA  Vessel_AURORA  \\\n",
       "0                                       0.0            0.0            0.0   \n",
       "1                                       1.0            0.0            1.0   \n",
       "2                                       0.0            0.0            0.0   \n",
       "3                                       0.0            0.0            0.0   \n",
       "4                                       0.0            0.0            0.0   \n",
       "...                                     ...            ...            ...   \n",
       "2495                                    0.0            0.0            0.0   \n",
       "2496                                    0.0            0.0            0.0   \n",
       "2497                                    0.0            0.0            0.0   \n",
       "2498                                    0.0            1.0            0.0   \n",
       "2499                                    0.0            0.0            0.0   \n",
       "\n",
       "      Vessel_HANA  Vessel_LINDA  Vessel_SAKURA  ...  price ($)  weight (kg)  \\\n",
       "0             0.0           1.0            0.0  ...  -0.069654     0.157558   \n",
       "1             0.0           0.0            0.0  ...  -0.069837     0.846331   \n",
       "2             1.0           0.0            0.0  ...  -0.071058    -0.200721   \n",
       "3             1.0           0.0            0.0  ...  -0.061348     0.771022   \n",
       "4             1.0           0.0            0.0  ...  -0.059901    -0.152938   \n",
       "...           ...           ...            ...  ...        ...          ...   \n",
       "2495          1.0           0.0            0.0  ...  -0.060925    -0.201213   \n",
       "2496          0.0           0.0            0.0  ...  -0.068688     0.104194   \n",
       "2497          0.0           1.0            0.0  ...  -0.070154     0.306270   \n",
       "2498          0.0           0.0            0.0  ...  -0.071963    -0.201304   \n",
       "2499          1.0           0.0            0.0  ...  -0.071765    -0.200042   \n",
       "\n",
       "      length (m)  width (m)  height (m)  Dwell after shipping  missing date  \\\n",
       "0       0.029620   0.755272    2.066314              0.058387      0.102515   \n",
       "1       0.464649   1.329899   -0.691158              1.948690      0.102515   \n",
       "2      -0.384443  -0.703397   -0.391433             -1.416971      0.102515   \n",
       "3       0.034862   0.799474    0.108109              1.257116      0.102515   \n",
       "4      -0.295341  -0.526588   -0.331488              0.888276      0.102515   \n",
       "...          ...        ...         ...                   ...           ...   \n",
       "2495   -0.048999  -0.681296   -0.511323             -1.970230      0.102515   \n",
       "2496    0.034862   0.976283    1.926442             -1.370866      0.102515   \n",
       "2497   -0.195756  -0.460285    1.247065              0.565542      0.102515   \n",
       "2498   -0.394926  -0.990710   -0.751104              0.980486      0.102515   \n",
       "2499   -0.342513  -0.504487   -0.351470              1.211011      0.102515   \n",
       "\n",
       "       weekday  shipment day  shipment month  \n",
       "0     0.492473      0.942801       -0.161017  \n",
       "1     0.993862     -0.418177        1.284394  \n",
       "2    -0.008917     -0.758421       -0.161017  \n",
       "3    -0.008917     -0.871836        1.573476  \n",
       "4     1.495252      1.056215        1.573476  \n",
       "...        ...           ...             ...  \n",
       "2495 -1.011697     -0.871836        1.284394  \n",
       "2496  0.492473     -1.325495       -1.317345  \n",
       "2497 -1.513086      0.262312        0.128065  \n",
       "2498  0.492473      1.056215       -1.317345  \n",
       "2499 -1.513086      0.375727        1.573476  \n",
       "\n",
       "[2500 rows x 42 columns]"
      ]
     },
     "execution_count": 134,
     "metadata": {},
     "output_type": "execute_result"
    }
   ],
   "source": [
    "X"
   ]
  },
  {
   "cell_type": "markdown",
   "id": "249d09c3",
   "metadata": {},
   "source": [
    "# Data exploration & visualisation"
   ]
  },
  {
   "cell_type": "markdown",
   "id": "27c28e58",
   "metadata": {},
   "source": [
    "We can see the correlations between all the variables in the X dataframe"
   ]
  },
  {
   "cell_type": "code",
   "execution_count": 135,
   "id": "eb80333b",
   "metadata": {
    "scrolled": false
   },
   "outputs": [
    {
     "data": {
      "text/plain": [
       "<AxesSubplot:>"
      ]
     },
     "execution_count": 135,
     "metadata": {},
     "output_type": "execute_result"
    },
    {
     "data": {
      "image/png": "[encoded data removed]",
      "text/plain": [
       "<Figure size 1080x864 with 2 Axes>"
      ]
     },
     "metadata": {
      "needs_background": "light"
     },
     "output_type": "display_data"
    }
   ],
   "source": [
    "y2 = y['Called for inspection'].map({'Y': 1, 'N': 0})\n",
    "X_and_y = pd.concat([X, y2], axis=1)\n",
    "corr = X_and_y.corr()\n",
    "\n",
    "fig = plt.figure(figsize = (15,12))\n",
    "ax = fig.add_subplot(1,1,1)\n",
    "sns.heatmap(corr, cmap='vlag', center=0, vmin=-1, vmax=1, ax=ax)"
   ]
  },
  {
   "cell_type": "markdown",
   "id": "10692977",
   "metadata": {},
   "source": [
    "There are many zero (or near-zero) correlations. However, being called for inspection appears to be strongly negatively correlated with to dwell time. This appears based on the assumption that criminals would conceal illegal goods in fast-moving consignments which leave the port quickly, helping them avoid detection.\n",
    "<br>Inspection also appears to be more likely for consignments coming from China (with Port of Shanghai and Port of Tianjin looking about equally likely). Consignments coming in on the vessels _Hana_ and _Linda_ are more likely to be inspected; this could be collinearity, with vessel acting as a mediator variable influenced by port,  as there is a positive correlation between these vessels and the Chinese ports.\n",
    "<br> Dwell also appears to be influenced slightly by vessel and port. However, this may be collinearity rather than an actual direct relationship.\n",
    "<br>There is also strong correlation between the physical dimensions and weight of consignments, and weak correlation between these and dwell; This is also true for more expnsive consignments. Putting this in relation to our target feature, this (indirectly) makes more expensive consignments slightly less likely to be picked for inspection."
   ]
  },
  {
   "cell_type": "code",
   "execution_count": 136,
   "id": "af5efb09",
   "metadata": {
    "scrolled": true
   },
   "outputs": [
    {
     "name": "stdout",
     "output_type": "stream",
     "text": [
      "{('port of loading_Port of Busan (South Korea)', 'Vessel_AMELIA'): 0.5646740380090344,\n",
      " ('port of loading_Port of Busan (South Korea)', 'Vessel_LINDA'): -0.32996732583530847,\n",
      " ('port of loading_Port of Busan (South Korea)', 'Vessel_SAKURA'): 0.3273001979567635,\n",
      " ('port of loading_Port of Shanghai (China)', 'Vessel_LINDA'): 0.48066041838566803,\n",
      " ('port of loading_Port of Singapore (Singapore)', 'Vessel_AURORA'): 0.6206619604379158,\n",
      " ('port of loading_Port of Singapore (Singapore)', 'Vessel_LINDA'): -0.31687061758181123,\n",
      " ('port of loading_Port of Tianjin (China)', 'Vessel_LINDA'): 0.41529163333792857,\n",
      " ('Vessel_AURORA', 'Vessel_LINDA'): -0.3279281569039041,\n",
      " ('Vessel_HANA', 'Vessel_LINDA'): -0.3168706175818122,\n",
      " ('length (m)', 'width (m)'): 0.4175162643408181,\n",
      " ('length (m)', 'height (m)'): 0.3345191850804236,\n",
      " ('width (m)', 'height (m)'): 0.6535764277896023}\n"
     ]
    }
   ],
   "source": [
    "corrdict = {}\n",
    "\n",
    "for i in corr.columns:\n",
    "    for j in corr.index:\n",
    "        if abs(corr[i][j]) >= 0.3 and abs(corr[i][j]) != 1.0:\n",
    "            if (j, i) not in corrdict.keys():\n",
    "                corrdict[(i, j)] = corr[i][j]\n",
    "import pprint\n",
    "pprint.pp(corrdict)"
   ]
  },
  {
   "cell_type": "code",
   "execution_count": 137,
   "id": "a2322f10",
   "metadata": {},
   "outputs": [
    {
     "data": {
      "text/plain": [
       "<AxesSubplot:xlabel='Called for inspection', ylabel='count'>"
      ]
     },
     "execution_count": 137,
     "metadata": {},
     "output_type": "execute_result"
    },
    {
     "data": {
      "image/png": "[encoded data removed]",
      "text/plain": [
       "<Figure size 432x288 with 1 Axes>"
      ]
     },
     "metadata": {
      "needs_background": "light"
     },
     "output_type": "display_data"
    }
   ],
   "source": [
    "sns.countplot(data=df, x='Called for inspection', hue='Vessel')"
   ]
  },
  {
   "cell_type": "code",
   "execution_count": 138,
   "id": "42577fdd",
   "metadata": {},
   "outputs": [
    {
     "data": {
      "text/plain": [
       "<AxesSubplot:xlabel='Called for inspection', ylabel='count'>"
      ]
     },
     "execution_count": 138,
     "metadata": {},
     "output_type": "execute_result"
    },
    {
     "data": {
      "image/png": "[encoded data removed]",
      "text/plain": [
       "<Figure size 432x288 with 1 Axes>"
      ]
     },
     "metadata": {
      "needs_background": "light"
     },
     "output_type": "display_data"
    }
   ],
   "source": [
    "sns.countplot(data=df, x='Called for inspection', hue='port of loading')"
   ]
  },
  {
   "cell_type": "code",
   "execution_count": 139,
   "id": "63bf65f3",
   "metadata": {},
   "outputs": [
    {
     "data": {
      "text/plain": [
       "<AxesSubplot:xlabel='Dwell after shipping', ylabel='Called for inspection'>"
      ]
     },
     "execution_count": 139,
     "metadata": {},
     "output_type": "execute_result"
    },
    {
     "data": {
      "image/png": "[encoded data removed]",
      "text/plain": [
       "<Figure size 432x288 with 1 Axes>"
      ]
     },
     "metadata": {
      "needs_background": "light"
     },
     "output_type": "display_data"
    }
   ],
   "source": [
    "sns.scatterplot(data=df, y='Called for inspection', x='Dwell after shipping', hue='port of loading')"
   ]
  },
  {
   "cell_type": "markdown",
   "id": "10741231",
   "metadata": {},
   "source": [
    "It would be useful if we could reduce the dimensionality of the dataset; this would avoid the risk we run of encountering the curse of dimensionality (Lindgren, 2020), which can be seen in datasets with only 10 features (Debbie & Shafi, 2019)."
   ]
  },
  {
   "cell_type": "code",
   "execution_count": 140,
   "id": "5a5e3e35",
   "metadata": {},
   "outputs": [],
   "source": [
    "from sklearn.decomposition import PCA\n",
    "\n",
    "pca = PCA(n_components=2)\n",
    "principalComponents = pca.fit_transform(X)\n",
    "principalDf = pd.DataFrame(data = principalComponents, columns = ['principal component 1', 'principal component 2'])"
   ]
  },
  {
   "cell_type": "code",
   "execution_count": 141,
   "id": "1b86a4b9",
   "metadata": {},
   "outputs": [
    {
     "data": {
      "text/html": [
       "<div>\n",
       "<style scoped>\n",
       "    .dataframe tbody tr th:only-of-type {\n",
       "        vertical-align: middle;\n",
       "    }\n",
       "\n",
       "    .dataframe tbody tr th {\n",
       "        vertical-align: top;\n",
       "    }\n",
       "\n",
       "    .dataframe thead th {\n",
       "        text-align: right;\n",
       "    }\n",
       "</style>\n",
       "<table border=\"1\" class=\"dataframe\">\n",
       "  <thead>\n",
       "    <tr style=\"text-align: right;\">\n",
       "      <th></th>\n",
       "      <th>principal component 1</th>\n",
       "      <th>principal component 2</th>\n",
       "    </tr>\n",
       "  </thead>\n",
       "  <tbody>\n",
       "    <tr>\n",
       "      <th>0</th>\n",
       "      <td>1.518174</td>\n",
       "      <td>-0.234168</td>\n",
       "    </tr>\n",
       "    <tr>\n",
       "      <th>1</th>\n",
       "      <td>1.181737</td>\n",
       "      <td>1.863352</td>\n",
       "    </tr>\n",
       "    <tr>\n",
       "      <th>2</th>\n",
       "      <td>-1.164299</td>\n",
       "      <td>-1.082367</td>\n",
       "    </tr>\n",
       "    <tr>\n",
       "      <th>3</th>\n",
       "      <td>0.976982</td>\n",
       "      <td>1.086517</td>\n",
       "    </tr>\n",
       "    <tr>\n",
       "      <th>4</th>\n",
       "      <td>-0.578770</td>\n",
       "      <td>1.283301</td>\n",
       "    </tr>\n",
       "    <tr>\n",
       "      <th>...</th>\n",
       "      <td>...</td>\n",
       "      <td>...</td>\n",
       "    </tr>\n",
       "    <tr>\n",
       "      <th>2495</th>\n",
       "      <td>-1.140986</td>\n",
       "      <td>-1.276021</td>\n",
       "    </tr>\n",
       "    <tr>\n",
       "      <th>2496</th>\n",
       "      <td>1.325925</td>\n",
       "      <td>-1.824604</td>\n",
       "    </tr>\n",
       "    <tr>\n",
       "      <th>2497</th>\n",
       "      <td>0.541295</td>\n",
       "      <td>0.344742</td>\n",
       "    </tr>\n",
       "    <tr>\n",
       "      <th>2498</th>\n",
       "      <td>-1.030212</td>\n",
       "      <td>1.032958</td>\n",
       "    </tr>\n",
       "    <tr>\n",
       "      <th>2499</th>\n",
       "      <td>-0.380159</td>\n",
       "      <td>1.189434</td>\n",
       "    </tr>\n",
       "  </tbody>\n",
       "</table>\n",
       "<p>2500 rows × 2 columns</p>\n",
       "</div>"
      ],
      "text/plain": [
       "      principal component 1  principal component 2\n",
       "0                  1.518174              -0.234168\n",
       "1                  1.181737               1.863352\n",
       "2                 -1.164299              -1.082367\n",
       "3                  0.976982               1.086517\n",
       "4                 -0.578770               1.283301\n",
       "...                     ...                    ...\n",
       "2495              -1.140986              -1.276021\n",
       "2496               1.325925              -1.824604\n",
       "2497               0.541295               0.344742\n",
       "2498              -1.030212               1.032958\n",
       "2499              -0.380159               1.189434\n",
       "\n",
       "[2500 rows x 2 columns]"
      ]
     },
     "execution_count": 141,
     "metadata": {},
     "output_type": "execute_result"
    }
   ],
   "source": [
    "principalDf"
   ]
  },
  {
   "cell_type": "code",
   "execution_count": 142,
   "id": "4db83868",
   "metadata": {},
   "outputs": [],
   "source": [
    "finalDf = pd.concat([principalDf, y], axis = 1)"
   ]
  },
  {
   "cell_type": "code",
   "execution_count": 143,
   "id": "b05efdeb",
   "metadata": {},
   "outputs": [
    {
     "data": {
      "text/html": [
       "<div>\n",
       "<style scoped>\n",
       "    .dataframe tbody tr th:only-of-type {\n",
       "        vertical-align: middle;\n",
       "    }\n",
       "\n",
       "    .dataframe tbody tr th {\n",
       "        vertical-align: top;\n",
       "    }\n",
       "\n",
       "    .dataframe thead th {\n",
       "        text-align: right;\n",
       "    }\n",
       "</style>\n",
       "<table border=\"1\" class=\"dataframe\">\n",
       "  <thead>\n",
       "    <tr style=\"text-align: right;\">\n",
       "      <th></th>\n",
       "      <th>principal component 1</th>\n",
       "      <th>principal component 2</th>\n",
       "      <th>Called for inspection</th>\n",
       "    </tr>\n",
       "  </thead>\n",
       "  <tbody>\n",
       "    <tr>\n",
       "      <th>0</th>\n",
       "      <td>1.518174</td>\n",
       "      <td>-0.234168</td>\n",
       "      <td>1</td>\n",
       "    </tr>\n",
       "    <tr>\n",
       "      <th>1</th>\n",
       "      <td>1.181737</td>\n",
       "      <td>1.863352</td>\n",
       "      <td>0</td>\n",
       "    </tr>\n",
       "    <tr>\n",
       "      <th>2</th>\n",
       "      <td>-1.164299</td>\n",
       "      <td>-1.082367</td>\n",
       "      <td>1</td>\n",
       "    </tr>\n",
       "    <tr>\n",
       "      <th>3</th>\n",
       "      <td>0.976982</td>\n",
       "      <td>1.086517</td>\n",
       "      <td>0</td>\n",
       "    </tr>\n",
       "    <tr>\n",
       "      <th>4</th>\n",
       "      <td>-0.578770</td>\n",
       "      <td>1.283301</td>\n",
       "      <td>0</td>\n",
       "    </tr>\n",
       "    <tr>\n",
       "      <th>...</th>\n",
       "      <td>...</td>\n",
       "      <td>...</td>\n",
       "      <td>...</td>\n",
       "    </tr>\n",
       "    <tr>\n",
       "      <th>2495</th>\n",
       "      <td>-1.140986</td>\n",
       "      <td>-1.276021</td>\n",
       "      <td>1</td>\n",
       "    </tr>\n",
       "    <tr>\n",
       "      <th>2496</th>\n",
       "      <td>1.325925</td>\n",
       "      <td>-1.824604</td>\n",
       "      <td>1</td>\n",
       "    </tr>\n",
       "    <tr>\n",
       "      <th>2497</th>\n",
       "      <td>0.541295</td>\n",
       "      <td>0.344742</td>\n",
       "      <td>0</td>\n",
       "    </tr>\n",
       "    <tr>\n",
       "      <th>2498</th>\n",
       "      <td>-1.030212</td>\n",
       "      <td>1.032958</td>\n",
       "      <td>0</td>\n",
       "    </tr>\n",
       "    <tr>\n",
       "      <th>2499</th>\n",
       "      <td>-0.380159</td>\n",
       "      <td>1.189434</td>\n",
       "      <td>0</td>\n",
       "    </tr>\n",
       "  </tbody>\n",
       "</table>\n",
       "<p>2500 rows × 3 columns</p>\n",
       "</div>"
      ],
      "text/plain": [
       "      principal component 1  principal component 2  Called for inspection\n",
       "0                  1.518174              -0.234168                      1\n",
       "1                  1.181737               1.863352                      0\n",
       "2                 -1.164299              -1.082367                      1\n",
       "3                  0.976982               1.086517                      0\n",
       "4                 -0.578770               1.283301                      0\n",
       "...                     ...                    ...                    ...\n",
       "2495              -1.140986              -1.276021                      1\n",
       "2496               1.325925              -1.824604                      1\n",
       "2497               0.541295               0.344742                      0\n",
       "2498              -1.030212               1.032958                      0\n",
       "2499              -0.380159               1.189434                      0\n",
       "\n",
       "[2500 rows x 3 columns]"
      ]
     },
     "execution_count": 143,
     "metadata": {},
     "output_type": "execute_result"
    }
   ],
   "source": [
    "finalDf"
   ]
  },
  {
   "cell_type": "code",
   "execution_count": 175,
   "id": "0170a9f6",
   "metadata": {},
   "outputs": [
    {
     "data": {
      "image/png": "[encoded data removed]",
      "text/plain": [
       "<Figure size 1440x1440 with 1 Axes>"
      ]
     },
     "metadata": {
      "needs_background": "light"
     },
     "output_type": "display_data"
    }
   ],
   "source": [
    "fig = plt.figure(figsize = (20,20))\n",
    "ax = fig.add_subplot(1,1,1) \n",
    "ax.set_xlabel('Principal Component 1', fontsize = 15)\n",
    "ax.set_ylabel('Principal Component 2', fontsize = 15)\n",
    "ax.set_title('2 component PCA', fontsize = 20)\n",
    "targets = ['N', 'Y']\n",
    "colours = ['darkblue', 'red']\n",
    "for target, colour in zip(targets,colours):\n",
    "    indicesToKeep = finalDf['Called for inspection'] == target\n",
    "    ax.scatter(finalDf.loc[indicesToKeep, 'principal component 1'], finalDf.loc[indicesToKeep, 'principal component 2'], \n",
    "               edgecolor = colour, facecolor='none', s = 100)\n",
    "ax.legend(targets)\n",
    "ax.grid()\n",
    "plt.show(fig)"
   ]
  },
  {
   "cell_type": "markdown",
   "id": "0c0b8afe",
   "metadata": {},
   "source": [
    "Although this graph shows _some_ separation between the \"yes\" and \"no\" classes, there looks to be some overlap, as the principle components did not contain enough of the variance to keep the data seperable as it was compressed to a lower-dimension space. \n",
    "<br>This indicates that PCA was not the most suitable tool to use on this dataset; from this, we can gather that the most effective model type to use would be one which is good at handling datasets of high dimensionality, such as decision tree, random forest, or support vector machine."
   ]
  },
  {
   "cell_type": "code",
   "execution_count": 145,
   "id": "92746162",
   "metadata": {},
   "outputs": [
    {
     "data": {
      "text/plain": [
       "array([0.17394685, 0.09015638])"
      ]
     },
     "execution_count": 145,
     "metadata": {},
     "output_type": "execute_result"
    }
   ],
   "source": [
    "pca.explained_variance_ratio_"
   ]
  },
  {
   "cell_type": "markdown",
   "id": "d5b0fd96",
   "metadata": {},
   "source": [
    "To reiterate the point on the unsuitablity of PCA for this dataset, the cell above shows the proportion of variance (information which can be meaningfully used in classifying) in the dataset which the principle components contain. Some variance is typically lost converting from a higher- to lower-dimension space; we obviously want to reduce this as much as possible.\n",
    "<br>The 2 principle components combined only contain <30% of the total variance."
   ]
  },
  {
   "cell_type": "markdown",
   "id": "12952468",
   "metadata": {},
   "source": [
    "# Data modelling"
   ]
  },
  {
   "cell_type": "markdown",
   "id": "e72b25cc",
   "metadata": {},
   "source": [
    "First, we need to split our dataset into training, testing and validation datasets.\n",
    "https://www.v7labs.com/blog/train-validation-test-set"
   ]
  },
  {
   "cell_type": "code",
   "execution_count": 146,
   "id": "788138b9",
   "metadata": {},
   "outputs": [],
   "source": [
    "from sklearn.model_selection import train_test_split\n",
    "X_train, X_test, y_train, y_test = train_test_split(X, y, test_size = 0.30)\n",
    "X_test, X_validate, y_test, y_validate = train_test_split(X_test, y_test, test_size = 0.50)"
   ]
  },
  {
   "cell_type": "markdown",
   "id": "3adc3859",
   "metadata": {},
   "source": [
    "## Creating a SVM"
   ]
  },
  {
   "cell_type": "markdown",
   "id": "9500a21e",
   "metadata": {},
   "source": [
    "Let's start by seeing how well a linear kernel SVM classifier performs -- this lets us know whether the data is linearly separable, or if we'll need to use a more complex kernel function."
   ]
  },
  {
   "cell_type": "code",
   "execution_count": 147,
   "id": "abc0acb8",
   "metadata": {
    "scrolled": true
   },
   "outputs": [
    {
     "name": "stdout",
     "output_type": "stream",
     "text": [
      "{1: 0.984, 2: 0.9786666666666667, 3: 0.976, 4: 0.9786666666666667, 5: 0.9733333333333334, 6: 0.9706666666666667, 7: 0.968, 8: 0.9706666666666667, 9: 0.968, 10: 0.9706666666666667, 11: 0.9706666666666667, 12: 0.9733333333333334, 13: 0.9706666666666667, 14: 0.9706666666666667, 15: 0.9706666666666667, 16: 0.968, 17: 0.9733333333333334, 18: 0.968, 19: 0.9706666666666667, 20: 0.9706666666666667}\n",
      "{1: array([[312,   6],\n",
      "       [  0,  57]], dtype=int64),\n",
      " 2: array([[311,   7],\n",
      "       [  1,  56]], dtype=int64),\n",
      " 3: array([[310,   8],\n",
      "       [  1,  56]], dtype=int64),\n",
      " 4: array([[311,   7],\n",
      "       [  1,  56]], dtype=int64),\n",
      " 5: array([[309,   9],\n",
      "       [  1,  56]], dtype=int64),\n",
      " 6: array([[309,   9],\n",
      "       [  2,  55]], dtype=int64),\n",
      " 7: array([[308,  10],\n",
      "       [  2,  55]], dtype=int64),\n",
      " 8: array([[309,   9],\n",
      "       [  2,  55]], dtype=int64),\n",
      " 9: array([[308,  10],\n",
      "       [  2,  55]], dtype=int64),\n",
      " 10: array([[308,  10],\n",
      "       [  1,  56]], dtype=int64),\n",
      " 11: array([[308,  10],\n",
      "       [  1,  56]], dtype=int64),\n",
      " 12: array([[309,   9],\n",
      "       [  1,  56]], dtype=int64),\n",
      " 13: array([[309,   9],\n",
      "       [  2,  55]], dtype=int64),\n",
      " 14: array([[309,   9],\n",
      "       [  2,  55]], dtype=int64),\n",
      " 15: array([[310,   8],\n",
      "       [  3,  54]], dtype=int64),\n",
      " 16: array([[308,  10],\n",
      "       [  2,  55]], dtype=int64),\n",
      " 17: array([[310,   8],\n",
      "       [  2,  55]], dtype=int64),\n",
      " 18: array([[309,   9],\n",
      "       [  3,  54]], dtype=int64),\n",
      " 19: array([[308,  10],\n",
      "       [  1,  56]], dtype=int64),\n",
      " 20: array([[309,   9],\n",
      "       [  2,  55]], dtype=int64)}\n"
     ]
    }
   ],
   "source": [
    "from sklearn.svm import LinearSVC\n",
    "from sklearn.metrics import confusion_matrix\n",
    "import pprint\n",
    "\n",
    "svc_score_dict = {}\n",
    "svc_confusion_dict = {}\n",
    "\n",
    "for i in range(1,21):    \n",
    "    svclassifier = LinearSVC(loss='hinge', class_weight='balanced', C=i, random_state=42)\n",
    "    svclassifier.fit(X_train, y_train)\n",
    "    svc_score_dict[i] = svclassifier.score(X_validate, y_validate)\n",
    "    y_pred=svclassifier.predict(X_validate)\n",
    "    svc_confusion_dict[i] = confusion_matrix(y_validate,y_pred)\n",
    "    \n",
    "print(svc_score_dict)\n",
    "pprint.pp(svc_confusion_dict)"
   ]
  },
  {
   "cell_type": "code",
   "execution_count": 148,
   "id": "0daabc4b",
   "metadata": {},
   "outputs": [
    {
     "data": {
      "text/plain": [
       "1"
      ]
     },
     "execution_count": 148,
     "metadata": {},
     "output_type": "execute_result"
    }
   ],
   "source": [
    "C_val = max(svc_score_dict, key=svc_score_dict.get)\n",
    "C_val"
   ]
  },
  {
   "cell_type": "code",
   "execution_count": 149,
   "id": "8faf46fd",
   "metadata": {},
   "outputs": [],
   "source": [
    "svclassifier.set_params(C=C_val)\n",
    "y_pred_test=svclassifier.predict(X_test)"
   ]
  },
  {
   "cell_type": "code",
   "execution_count": 150,
   "id": "9c3a1939",
   "metadata": {},
   "outputs": [
    {
     "data": {
      "text/plain": [
       "<sklearn.metrics._plot.precision_recall_curve.PrecisionRecallDisplay at 0x184ac93ff10>"
      ]
     },
     "execution_count": 150,
     "metadata": {},
     "output_type": "execute_result"
    },
    {
     "data": {
      "image/png": "[encoded data removed]",
      "text/plain": [
       "<Figure size 432x288 with 1 Axes>"
      ]
     },
     "metadata": {
      "needs_background": "light"
     },
     "output_type": "display_data"
    }
   ],
   "source": [
    "from sklearn.metrics import PrecisionRecallDisplay\n",
    "\n",
    "PrecisionRecallDisplay.from_estimator(svclassifier, X_test, y_test)"
   ]
  },
  {
   "cell_type": "code",
   "execution_count": 151,
   "id": "a99e431f",
   "metadata": {
    "scrolled": true
   },
   "outputs": [
    {
     "name": "stdout",
     "output_type": "stream",
     "text": [
      "[[307   3]\n",
      " [  6  59]]\n",
      "              precision    recall  f1-score   support\n",
      "\n",
      "           0       0.98      0.99      0.99       310\n",
      "           1       0.95      0.91      0.93        65\n",
      "\n",
      "    accuracy                           0.98       375\n",
      "   macro avg       0.97      0.95      0.96       375\n",
      "weighted avg       0.98      0.98      0.98       375\n",
      "\n"
     ]
    }
   ],
   "source": [
    "from sklearn.metrics import classification_report\n",
    "print(confusion_matrix(y_test,y_pred_test))\n",
    "print(classification_report(y_test,y_pred_test))"
   ]
  },
  {
   "cell_type": "markdown",
   "id": "8c9fc7b1",
   "metadata": {},
   "source": [
    "\"Precision\" is $\\frac{TP}{TP+FP}$. In other terms, the proportion of true positive classifications out of all positive classifications.\n",
    "<br>\n",
    "\"Recall\" is $\\frac{TP}{TP+FN}$. In other terms, the proportion of true positive classifications out of all datapoints which were truly positive, whether classified as such or not.\n",
    "<br>(Kundu, 2022)"
   ]
  },
  {
   "cell_type": "markdown",
   "id": "7689c96a",
   "metadata": {},
   "source": [
    "This means that, on the valifation data, when the classifier determines a consignment as called for inspection, it gives fewer false negatives than false positives; when it classifies as not being called, it gives fewer false positives than false negatives. In other words, it tends to slightly over-assign the _yes_ category, and under-assign the _no_ category. This seems to be almost an over-compensation for the imbalance in the dataset!"
   ]
  },
  {
   "cell_type": "markdown",
   "id": "f8b3b995",
   "metadata": {},
   "source": [
    "We could potentially improve the accuracy of our model by using gradient descent to optimise the boundary between classes."
   ]
  },
  {
   "cell_type": "code",
   "execution_count": 152,
   "id": "395d044a",
   "metadata": {},
   "outputs": [],
   "source": [
    "from sklearn.linear_model import SGDClassifier\n",
    "\n",
    "graddescclassifier = SGDClassifier(loss='hinge', early_stopping=True, class_weight='balanced', random_state=42)\n",
    "\n",
    "graddescclassifier.fit(X_train, y_train)\n",
    "y_pred=graddescclassifier.predict(X_test)"
   ]
  },
  {
   "cell_type": "code",
   "execution_count": 153,
   "id": "862bc8a1",
   "metadata": {},
   "outputs": [
    {
     "name": "stdout",
     "output_type": "stream",
     "text": [
      "[[304   6]\n",
      " [  3  62]]\n",
      "              precision    recall  f1-score   support\n",
      "\n",
      "           0       0.99      0.98      0.99       310\n",
      "           1       0.91      0.95      0.93        65\n",
      "\n",
      "    accuracy                           0.98       375\n",
      "   macro avg       0.95      0.97      0.96       375\n",
      "weighted avg       0.98      0.98      0.98       375\n",
      "\n"
     ]
    }
   ],
   "source": [
    "print(confusion_matrix(y_test,y_pred))\n",
    "crep = classification_report(y_test,y_pred)\n",
    "print(crep)"
   ]
  },
  {
   "cell_type": "markdown",
   "id": "a498843d",
   "metadata": {},
   "source": [
    "This looks to have made a slight difference to our precision and recall values -- but could another model type perform better?"
   ]
  },
  {
   "cell_type": "markdown",
   "id": "ca812c0d",
   "metadata": {},
   "source": [
    "## Creating a decision tree classifier"
   ]
  },
  {
   "cell_type": "markdown",
   "id": "f7146b9b",
   "metadata": {},
   "source": [
    "Decision trees typically don't handle imbalanced datasets well, so it would be prudent to see the balance between our target classes:"
   ]
  },
  {
   "cell_type": "code",
   "execution_count": 154,
   "id": "22055fa7",
   "metadata": {},
   "outputs": [
    {
     "name": "stdout",
     "output_type": "stream",
     "text": [
      "0 0\n",
      "'Yes' accounts for 0.00% of consignments.\n",
      "'No' accounts for 0.00% of consignments.\n"
     ]
    }
   ],
   "source": [
    "yes = y[y['Called for inspection'] == 'Y'].count()\n",
    "no = y[y['Called for inspection'] == 'N'].count()\n",
    "rows = len(y)\n",
    "\n",
    "print(yes[0], no[0])\n",
    "print(f'\\'Yes\\' accounts for {yes[0]/rows:.2%} of consignments.\\n\\'No\\' accounts for {no[0]/rows:.2%} of consignments.')"
   ]
  },
  {
   "cell_type": "markdown",
   "id": "b13e40a9",
   "metadata": {},
   "source": [
    "The target data is indeed unbalanced. \n",
    "<br>This means we will have to carry out some bagging in order to balance out the dataset: this involves sampling repeatedly from the dataset with replacement (so the same datapoint can be sampled more than once). \n",
    "<br>Using sklearn's BaggingClassifier allows us to easily perform bagging, and then implement the bagged training data to train and fit a decision tree. Note that this is different to a random forest: a bagged tree uses $M$ features when considering where to make a split, whereas a random forest uses $m<M$ features when making this same decision (Brownlee, 2020)."
   ]
  },
  {
   "cell_type": "code",
   "execution_count": 155,
   "id": "2ada5e96",
   "metadata": {},
   "outputs": [],
   "source": [
    "from sklearn.tree import DecisionTreeClassifier\n",
    "treeclassifier = DecisionTreeClassifier(class_weight='balanced', random_state=42)"
   ]
  },
  {
   "cell_type": "markdown",
   "id": "469c2637",
   "metadata": {},
   "source": [
    "Decision trees are prone to overfitting; this means the decision function fits too closely to the training data, and the model cannot effectively axtrapolate beyond this and cope well with unseen data. One way to minimise the risk of this is tuning the max_depth parameter. Not setting a maximum depth, or setting it too high, allows the tree to split the training data into excessively small subsets (\"splitting hairs\", or creating false boundaries), leading to overfitting (Mithrakumar, 2019)."
   ]
  },
  {
   "cell_type": "code",
   "execution_count": 156,
   "id": "44cd1b0c",
   "metadata": {},
   "outputs": [],
   "source": [
    "from sklearn.ensemble import BaggingClassifier\n",
    "\n",
    "bagged_tree_score_dict = {}\n",
    "bagged_tree_confusion_dict = {}\n",
    "\n",
    "for max_d in range(1,21):\n",
    "    treeclassifier.set_params(max_depth=max_d)\n",
    "    baggedtreeclassifier = BaggingClassifier(estimator=treeclassifier)\n",
    "    baggedtreeclassifier.fit(X_train, y_train)\n",
    "    bagged_tree_score_dict[max_d] = baggedtreeclassifier.score(X_validate, y_validate)\n",
    "    y_pred=baggedtreeclassifier.predict(X_validate)\n",
    "    bagged_tree_confusion_dict[max_d] = confusion_matrix(y_validate,y_pred)"
   ]
  },
  {
   "cell_type": "code",
   "execution_count": 157,
   "id": "a89c2b52",
   "metadata": {},
   "outputs": [
    {
     "name": "stdout",
     "output_type": "stream",
     "text": [
      "{1: 0.9946666666666667, 2: 0.9946666666666667, 3: 0.9946666666666667, 4: 0.9973333333333333, 5: 0.9946666666666667, 6: 0.9946666666666667, 7: 0.992, 8: 0.992, 9: 0.9973333333333333, 10: 0.9973333333333333, 11: 0.9973333333333333, 12: 0.9946666666666667, 13: 0.9946666666666667, 14: 0.9973333333333333, 15: 0.9973333333333333, 16: 0.9973333333333333, 17: 0.992, 18: 0.992, 19: 0.9973333333333333, 20: 0.9973333333333333}\n"
     ]
    }
   ],
   "source": [
    "print(bagged_tree_score_dict)"
   ]
  },
  {
   "cell_type": "code",
   "execution_count": 158,
   "id": "ffe8b516",
   "metadata": {},
   "outputs": [
    {
     "name": "stdout",
     "output_type": "stream",
     "text": [
      "{1: array([[317,   1],\n",
      "       [  1,  56]], dtype=int64),\n",
      " 2: array([[317,   1],\n",
      "       [  1,  56]], dtype=int64),\n",
      " 3: array([[317,   1],\n",
      "       [  1,  56]], dtype=int64),\n",
      " 4: array([[318,   0],\n",
      "       [  1,  56]], dtype=int64),\n",
      " 5: array([[317,   1],\n",
      "       [  1,  56]], dtype=int64),\n",
      " 6: array([[317,   1],\n",
      "       [  1,  56]], dtype=int64),\n",
      " 7: array([[316,   2],\n",
      "       [  1,  56]], dtype=int64),\n",
      " 8: array([[316,   2],\n",
      "       [  1,  56]], dtype=int64),\n",
      " 9: array([[318,   0],\n",
      "       [  1,  56]], dtype=int64),\n",
      " 10: array([[318,   0],\n",
      "       [  1,  56]], dtype=int64),\n",
      " 11: array([[318,   0],\n",
      "       [  1,  56]], dtype=int64),\n",
      " 12: array([[317,   1],\n",
      "       [  1,  56]], dtype=int64),\n",
      " 13: array([[317,   1],\n",
      "       [  1,  56]], dtype=int64),\n",
      " 14: array([[318,   0],\n",
      "       [  1,  56]], dtype=int64),\n",
      " 15: array([[317,   1],\n",
      "       [  0,  57]], dtype=int64),\n",
      " 16: array([[318,   0],\n",
      "       [  1,  56]], dtype=int64),\n",
      " 17: array([[317,   1],\n",
      "       [  2,  55]], dtype=int64),\n",
      " 18: array([[317,   1],\n",
      "       [  2,  55]], dtype=int64),\n",
      " 19: array([[318,   0],\n",
      "       [  1,  56]], dtype=int64),\n",
      " 20: array([[318,   0],\n",
      "       [  1,  56]], dtype=int64)}\n"
     ]
    }
   ],
   "source": [
    "pprint.pp(bagged_tree_confusion_dict)"
   ]
  },
  {
   "cell_type": "code",
   "execution_count": 159,
   "id": "f90239b7",
   "metadata": {},
   "outputs": [],
   "source": [
    "#max_d = max(bagged_tree_score_dict.values())\n",
    "max_d = [C for C, score in bagged_tree_score_dict.items() if score ==  max(bagged_tree_score_dict.values())]"
   ]
  },
  {
   "cell_type": "code",
   "execution_count": 160,
   "id": "0b6209e6",
   "metadata": {},
   "outputs": [],
   "source": [
    "max_d = max_d[0]"
   ]
  },
  {
   "cell_type": "markdown",
   "id": "9933fd71",
   "metadata": {},
   "source": [
    "As we can see a max depth of 9 gives the best accuracy in terms of precision and recall."
   ]
  },
  {
   "cell_type": "code",
   "execution_count": 161,
   "id": "87e575e9",
   "metadata": {},
   "outputs": [
    {
     "data": {
      "text/html": [
       "<style>#sk-container-id-1 {color: black;}#sk-container-id-1 pre{padding: 0;}#sk-container-id-1 div.sk-toggleable {background-color: white;}#sk-container-id-1 label.sk-toggleable__label {cursor: pointer;display: block;width: 100%;margin-bottom: 0;padding: 0.3em;box-sizing: border-box;text-align: center;}#sk-container-id-1 label.sk-toggleable__label-arrow:before {content: \"▸\";float: left;margin-right: 0.25em;color: #696969;}#sk-container-id-1 label.sk-toggleable__label-arrow:hover:before {color: black;}#sk-container-id-1 div.sk-estimator:hover label.sk-toggleable__label-arrow:before {color: black;}#sk-container-id-1 div.sk-toggleable__content {max-height: 0;max-width: 0;overflow: hidden;text-align: left;background-color: #f0f8ff;}#sk-container-id-1 div.sk-toggleable__content pre {margin: 0.2em;color: black;border-radius: 0.25em;background-color: #f0f8ff;}#sk-container-id-1 input.sk-toggleable__control:checked~div.sk-toggleable__content {max-height: 200px;max-width: 100%;overflow: auto;}#sk-container-id-1 input.sk-toggleable__control:checked~label.sk-toggleable__label-arrow:before {content: \"▾\";}#sk-container-id-1 div.sk-estimator input.sk-toggleable__control:checked~label.sk-toggleable__label {background-color: #d4ebff;}#sk-container-id-1 div.sk-label input.sk-toggleable__control:checked~label.sk-toggleable__label {background-color: #d4ebff;}#sk-container-id-1 input.sk-hidden--visually {border: 0;clip: rect(1px 1px 1px 1px);clip: rect(1px, 1px, 1px, 1px);height: 1px;margin: -1px;overflow: hidden;padding: 0;position: absolute;width: 1px;}#sk-container-id-1 div.sk-estimator {font-family: monospace;background-color: #f0f8ff;border: 1px dotted black;border-radius: 0.25em;box-sizing: border-box;margin-bottom: 0.5em;}#sk-container-id-1 div.sk-estimator:hover {background-color: #d4ebff;}#sk-container-id-1 div.sk-parallel-item::after {content: \"\";width: 100%;border-bottom: 1px solid gray;flex-grow: 1;}#sk-container-id-1 div.sk-label:hover label.sk-toggleable__label {background-color: #d4ebff;}#sk-container-id-1 div.sk-serial::before {content: \"\";position: absolute;border-left: 1px solid gray;box-sizing: border-box;top: 0;bottom: 0;left: 50%;z-index: 0;}#sk-container-id-1 div.sk-serial {display: flex;flex-direction: column;align-items: center;background-color: white;padding-right: 0.2em;padding-left: 0.2em;position: relative;}#sk-container-id-1 div.sk-item {position: relative;z-index: 1;}#sk-container-id-1 div.sk-parallel {display: flex;align-items: stretch;justify-content: center;background-color: white;position: relative;}#sk-container-id-1 div.sk-item::before, #sk-container-id-1 div.sk-parallel-item::before {content: \"\";position: absolute;border-left: 1px solid gray;box-sizing: border-box;top: 0;bottom: 0;left: 50%;z-index: -1;}#sk-container-id-1 div.sk-parallel-item {display: flex;flex-direction: column;z-index: 1;position: relative;background-color: white;}#sk-container-id-1 div.sk-parallel-item:first-child::after {align-self: flex-end;width: 50%;}#sk-container-id-1 div.sk-parallel-item:last-child::after {align-self: flex-start;width: 50%;}#sk-container-id-1 div.sk-parallel-item:only-child::after {width: 0;}#sk-container-id-1 div.sk-dashed-wrapped {border: 1px dashed gray;margin: 0 0.4em 0.5em 0.4em;box-sizing: border-box;padding-bottom: 0.4em;background-color: white;}#sk-container-id-1 div.sk-label label {font-family: monospace;font-weight: bold;display: inline-block;line-height: 1.2em;}#sk-container-id-1 div.sk-label-container {text-align: center;}#sk-container-id-1 div.sk-container {/* jupyter's `normalize.less` sets `[hidden] { display: none; }` but bootstrap.min.css set `[hidden] { display: none !important; }` so we also need the `!important` here to be able to override the default hidden behavior on the sphinx rendered scikit-learn.org. See: https://github.com/scikit-learn/scikit-learn/issues/21755 */display: inline-block !important;position: relative;}#sk-container-id-1 div.sk-text-repr-fallback {display: none;}</style><div id=\"sk-container-id-1\" class=\"sk-top-container\"><div class=\"sk-text-repr-fallback\"><pre>DecisionTreeClassifier(class_weight=&#x27;balanced&#x27;, max_depth=4, random_state=42)</pre><b>In a Jupyter environment, please rerun this cell to show the HTML representation or trust the notebook. <br />On GitHub, the HTML representation is unable to render, please try loading this page with nbviewer.org.</b></div><div class=\"sk-container\" hidden><div class=\"sk-item\"><div class=\"sk-estimator sk-toggleable\"><input class=\"sk-toggleable__control sk-hidden--visually\" id=\"sk-estimator-id-1\" type=\"checkbox\" checked><label for=\"sk-estimator-id-1\" class=\"sk-toggleable__label sk-toggleable__label-arrow\">DecisionTreeClassifier</label><div class=\"sk-toggleable__content\"><pre>DecisionTreeClassifier(class_weight=&#x27;balanced&#x27;, max_depth=4, random_state=42)</pre></div></div></div></div></div>"
      ],
      "text/plain": [
       "DecisionTreeClassifier(class_weight='balanced', max_depth=4, random_state=42)"
      ]
     },
     "execution_count": 161,
     "metadata": {},
     "output_type": "execute_result"
    }
   ],
   "source": [
    "treeclassifier.set_params(max_depth=max_d)"
   ]
  },
  {
   "cell_type": "code",
   "execution_count": 162,
   "id": "9ceaa848",
   "metadata": {},
   "outputs": [],
   "source": [
    "y_pred_test = baggedtreeclassifier.predict(X_test)"
   ]
  },
  {
   "cell_type": "code",
   "execution_count": 163,
   "id": "e63d7275",
   "metadata": {},
   "outputs": [
    {
     "name": "stdout",
     "output_type": "stream",
     "text": [
      "[[309   1]\n",
      " [  3  62]]\n",
      "              precision    recall  f1-score   support\n",
      "\n",
      "           0       0.99      1.00      0.99       310\n",
      "           1       0.98      0.95      0.97        65\n",
      "\n",
      "    accuracy                           0.99       375\n",
      "   macro avg       0.99      0.98      0.98       375\n",
      "weighted avg       0.99      0.99      0.99       375\n",
      "\n"
     ]
    }
   ],
   "source": [
    "print(confusion_matrix(y_test,y_pred_test))\n",
    "print(classification_report(y_test,y_pred_test))"
   ]
  },
  {
   "cell_type": "markdown",
   "id": "c53586f4",
   "metadata": {},
   "source": [
    "The bagged decision tree outperforms the SVM, by having a lower error rate (higher accuracy). However, is this *too* high: is the model overfitting, as decision trees are prone to do? Cross-validation is a quick and easy way to analyse this."
   ]
  },
  {
   "cell_type": "code",
   "execution_count": 164,
   "id": "ab04b69d",
   "metadata": {},
   "outputs": [
    {
     "name": "stdout",
     "output_type": "stream",
     "text": [
      "{'fit_time': array([0.01798177, 0.03445172, 0.01346993, 0.01571417, 0.01410651]),\n",
      " 'score_time': array([0.        , 0.        , 0.        , 0.01562476, 0.        ]),\n",
      " 'test_score': array([0.968, 0.98 , 0.986, 0.982, 0.972])}\n",
      "{'fit_time': array([0.02178144, 0.01913929, 0.01614261, 0.02858114, 0.0125227 ]),\n",
      " 'score_time': array([0.00805378, 0.0079155 , 0.        , 0.00447917, 0.        ]),\n",
      " 'test_score': array([0.96 , 0.976, 0.96 , 0.978, 0.974])}\n",
      "{'fit_time': array([0.16495371, 0.20825553, 0.20556426, 0.19838262, 0.18299842]),\n",
      " 'score_time': array([0.        , 0.00752711, 0.        , 0.00578117, 0.01159692]),\n",
      " 'test_score': array([0.984, 0.998, 1.   , 0.998, 0.988])}\n"
     ]
    }
   ],
   "source": [
    "from sklearn.model_selection import cross_validate\n",
    "import pprint\n",
    "\n",
    "for est in [svclassifier, graddescclassifier, baggedtreeclassifier]:\n",
    "    cv = cross_validate(est, X, y.to_numpy().ravel()) \n",
    "    pprint.pprint(cv)"
   ]
  },
  {
   "cell_type": "markdown",
   "id": "b7a5bd22",
   "metadata": {},
   "source": [
    "The bagged decision tree takes (proportionally) much longer to fit and socre, indicating that it is more complex and thus less easily interpretable -- but the test scores are considerably higher than the linear SVM."
   ]
  },
  {
   "cell_type": "code",
   "execution_count": null,
   "id": "df381e0f",
   "metadata": {},
   "outputs": [],
   "source": []
  },
  {
   "cell_type": "markdown",
   "id": "a3b2268a",
   "metadata": {},
   "source": [
    "# References"
   ]
  },
  {
   "cell_type": "markdown",
   "id": "a416312f",
   "metadata": {},
   "source": [
    "de Amorim, L., Cavalcanti, G., & Cruz, R. (2023). 'The choice of scaling technique matters for classification performance',\n",
    "_Applied Soft Computing_, Volume 133, 109924. DOI: https://doi.org/10.1016/j.asoc.2022.109924.\n",
    "<br><br>Brownlee, J. (2020). 'Bagging and Random Forest for Imbalanced Classification, _Machine Learning Mastery_, 12 February. Available at: https://machinelearningmastery.com/bagging-and-random-forest-for-imbalanced-classification/\n",
    "<br><br>Chong, J. (2020). 'What is Feature Scaling & Why is it Important in Machine Learning?', _Medium_, 30 December. Available at: https://towardsdatascience.com/what-is-feature-scaling-why-is-it-important-in-machine-learning-2854ae877048\n",
    "<br><br>Debie, E. & Shafi, K. (2019). Implications of the curse of dimensionality for supervised learning classifier systems: theoretical and empirical analyses. Pattern Analysis and Applications. 22. DOI: 10.1007/s10044-017-0649-0. \n",
    "<br><br>Kundu, R. (2022). 'Precision vs. Recall: Differences, Use Cases & Evaluation', _v7labs_. 19 September. Available at: https://www.v7labs.com/blog/precision-vs-recall-guide\n",
    "<br><br>Lindgren, I. (2020). 'Dealing with Highly Dimensional Data using Principal Component Analysis (PCA)', _Towards Data Science_. 24 April. Available at: https://towardsdatascience.com/dealing-with-highly-dimensional-data-using-principal-component-analysis-pca-fea1ca817fe6\n",
    "<br><br>Mithrakumar, M. (2019). 'How to tune a Decision Tree?', _Towards Data Science_. 11 November. Available at: https://towardsdatascience.com/how-to-tune-a-decision-tree-f03721801680\n",
    "<br><br>Zach, 2022.'Label Encoding vs. One Hot Encoding: What’s the Difference?', _Statology_, 8 August. Available at: https://www.statology.org/label-encoding-vs-one-hot-encoding/\n"
   ]
  },
  {
   "cell_type": "code",
   "execution_count": null,
   "id": "2dbba170",
   "metadata": {},
   "outputs": [],
   "source": []
  }
 ],
 "metadata": {
  "kernelspec": {
   "display_name": "Python 3 (ipykernel)",
   "language": "python",
   "name": "python3"
  },
  "language_info": {
   "codemirror_mode": {
    "name": "ipython",
    "version": 3
   },
   "file_extension": ".py",
   "mimetype": "text/x-python",
   "name": "python",
   "nbconvert_exporter": "python",
   "pygments_lexer": "ipython3",
   "version": "3.10.0"
  }
 },
 "nbformat": 4,
 "nbformat_minor": 5
}
